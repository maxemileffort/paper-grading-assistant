{
 "cells": [
  {
   "cell_type": "markdown",
   "metadata": {},
   "source": [
    "# Paper Grading Assistant\n",
    "\n",
    "## Data Wrangling and Pre-processing\n",
    "\n",
    "Data comes from these links:\n",
    "- https://components.one/datasets/all-the-news-2-news-articles-dataset/\n",
    "- https://www.kaggle.com/abhinavwalia95/entity-annotated-corpus\n",
    "- https://www.kaggle.com/krsoninikhil/pual-graham-essays\n",
    "- https://www.kaggle.com/c/asap-sas/data\n",
    "- https://www.kaggle.com/c/asap-aes/data\n",
    "- https://www.kaggle.com/thevirusx3/automated-essay-scoring-dataset"
   ]
  },
  {
   "cell_type": "code",
   "execution_count": 1,
   "metadata": {},
   "outputs": [
    {
     "name": "stderr",
     "output_type": "stream",
     "text": [
      "[nltk_data] Downloading package stopwords to\n",
      "[nltk_data]     C:\\Users\\maxw2\\AppData\\Roaming\\nltk_data...\n",
      "[nltk_data]   Package stopwords is already up-to-date!\n",
      "[nltk_data] Downloading package wordnet to\n",
      "[nltk_data]     C:\\Users\\maxw2\\AppData\\Roaming\\nltk_data...\n",
      "[nltk_data]   Package wordnet is already up-to-date!\n"
     ]
    }
   ],
   "source": [
    "import os, sys\n",
    "import numpy as np\n",
    "import matplotlib.pyplot as plt\n",
    "import pandas as pd\n",
    "import re\n",
    "import nltk\n",
    "nltk.download('stopwords')\n",
    "nltk.download('wordnet')\n",
    "\n",
    "from nltk.corpus import stopwords\n",
    "from nltk.stem.porter import PorterStemmer\n",
    "from nltk.stem.wordnet import WordNetLemmatizer"
   ]
  },
  {
   "cell_type": "code",
   "execution_count": 2,
   "metadata": {},
   "outputs": [],
   "source": [
    "train_docs = {\n",
    "    'doc1' : \"D:\\\\Kaggle\\\\asap-sas\\\\train.tsv\",\n",
    "    'doc2' : \"D:\\\\Kaggle\\\\asap-aes\\\\training_set_rel3.tsv\",\n",
    "    'doc3' : \"D:\\\\Kaggle\\\\paul-graham-essays\\\\paul_graham_essay.txt\",\n",
    "    'doc4' : \"D:\\\\Kaggle\\\\all-the-news-2-1\\\\all-the-news-2-1.csv\", # large file\n",
    "    'doc5' : \"gibberish\" # bad input\n",
    "} "
   ]
  },
  {
   "cell_type": "code",
   "execution_count": 3,
   "metadata": {},
   "outputs": [],
   "source": [
    "# Cleaning the text\n",
    "\n",
    "def get_data(path):\n",
    "    dataset = []\n",
    "    \n",
    "    if os.path.getsize(path) > 1 * 10^9:\n",
    "        dataset = clean_big_file(path)\n",
    "        return dataset\n",
    "    if path.endswith('.tsv'):\n",
    "        dataset = pd.read_table(path)\n",
    "    elif path.endswith('.csv'):\n",
    "        dataset = pd.read_csv(path)\n",
    "    elif path.endswith('.txt'):\n",
    "        with open(path) as file:\n",
    "            for line in file:\n",
    "                dataset.append(line.rstrip())\n",
    "        file.close()\n",
    "    else:\n",
    "        dataset = ''\n",
    "    return (dataset)\n",
    "\n",
    "def strip_html(raw_html):\n",
    "    clean_re = re.compile('<.*?>|&([a-z0-9]+|#[0-9]{1,6}|#x[0-9a-f]{1,6});')\n",
    "    text = re.sub(clean_re, '', raw_html)\n",
    "    return text\n",
    "\n",
    "def lem_stem_text(text):\n",
    "    # remove handles and urls specifically\n",
    "    text = re.sub(r\"(@\\[A-Za-z0-9]+)|([^0-9A-Za-z \\t])|(\\w+:\\/\\/\\S+)|^rt|http.+?\", \"\", text)\n",
    "    # remove anything not a letter\n",
    "    text = re.sub('[^a-zA-Z]', ' ', text)\n",
    "\n",
    "    text = text.lower()\n",
    "    text = text.split()\n",
    "    \n",
    "    ps = PorterStemmer()\n",
    "    wnl = WordNetLemmatizer()\n",
    "    all_stopwords = stopwords.words('english')\n",
    "    all_stopwords.remove('not')\n",
    "    \n",
    "    text1 = [ps.stem(word) for word in text if not word in set(all_stopwords)]\n",
    "    text2 = [wnl.lemmatize(word) for word in text if not word in set(all_stopwords)]\n",
    "    text1 = ' '.join(text1)\n",
    "    text2 = ' '.join(text2)\n",
    "    return text1, text2\n",
    "    \n",
    "def clean_big_file(file):\n",
    "    data = []\n",
    "    count = 0\n",
    "    \n",
    "    import csv\n",
    " \n",
    "    with open(file, newline='', encoding='utf-8') as csv_file:\n",
    "        csv_reader = csv.reader(csv_file, delimiter=',')\n",
    "        \n",
    "        try:\n",
    "            for line in csv_file:\n",
    "                if count < 500:\n",
    "                    data.append(line)\n",
    "                    count += 1\n",
    "                else:\n",
    "                    break\n",
    "        except:\n",
    "            print(\"Unexpected error:\", sys.exc_info())\n",
    "            count += 1\n",
    "            pass\n",
    "    csv_file.close()\n",
    "    header = data.pop(0)\n",
    "    return data\n",
    "    \n",
    "def clean_df(df):\n",
    "    cols = df.columns\n",
    "    print(cols)\n",
    "    target = input(\"Which column has the text? Copy and paste here: \")\n",
    "    print(target)\n",
    "    clean_text = []\n",
    "    for i in range(len(df)):\n",
    "        try:\n",
    "            text = strip_html(df[target][i])\n",
    "            text1, text2 = lem_stem_text(text)\n",
    "            clean_text.append([text1, text2])\n",
    "        except:\n",
    "            pass\n",
    "#     print(clean_text)\n",
    "    return clean_text\n",
    "\n",
    "def clean_list(lst):\n",
    "    print('processing text data...')\n",
    "    clean_text = []\n",
    "    for i in range(len(lst)):\n",
    "        try:\n",
    "            lst[i] = lst[i].strip()\n",
    "            if len(lst[i]) < 2: # removes random empty lines\n",
    "                lst.pop(i)\n",
    "                continue\n",
    "            text = strip_html(lst[i])\n",
    "            text1, text2 = lem_stem_text(text)\n",
    "            clean_text.append([text1, text2])\n",
    "        except IndexError:\n",
    "            break\n",
    "        except:\n",
    "            print(\"Unexpected error:\", sys.exc_info())\n",
    "            pass\n",
    "#     print(clean_text)\n",
    "    return clean_text\n",
    "\n",
    "def process_data(data):\n",
    "    if isinstance(data, pd.DataFrame):\n",
    "        return clean_df(data)\n",
    "    elif isinstance(data, list):\n",
    "        return clean_list(data)\n",
    "    else:\n",
    "        print('data type not recognized')\n",
    "        return ''\n",
    "    "
   ]
  },
  {
   "cell_type": "code",
   "execution_count": 4,
   "metadata": {},
   "outputs": [
    {
     "name": "stdout",
     "output_type": "stream",
     "text": [
      "processing text data...\n"
     ]
    },
    {
     "data": {
      "text/plain": [
       "[['lee drutmanw take concern health liber democraci seriouslythi post part polyarchi independ blog produc polit reform program new america washington think tank devot develop new idea new voic imagin otherwis healthi someth start feel weird sometim short breath get migrain feet start swell littl otherwis everyth seem fine go doctor doctor run test tell youit probabl noth could sign come heart attack push certainti doctor tell she not sure human bodi complex system your young otherwis pretti healthi could plenti explan your feel littl worri safe side mayb reduc stress life eat healthier diet would your sensibl person youd probabl err side precaut sure might noth worri likelihood heart attack might low even low chanc low chanc someth possibl fatal take chanc especi recommend less stress healthier diet good either way offer parabl way think debat that emerg past two week respons amanda taub new york time articl profil new find roberto stefan foa yascha mounk find rais alarm fact younger peopl time becom less less like say survey essenti live democraci rather share sens alarm howev sever critic jump foa mounk misinterpret data gener unnecessari panic polit scientist erik voeten exampl argu theiranalysi mislead articl mounk foa document small shift opinion relat issu arent nearli dramat new york time graph suggest similarli wonkblog jeff guoreanalyz data argu far less alarm thanit seem foa mounk respond draw analysi forthcom journal democraci articl also document increas support among young peopl strong leader rise support extrem voeten howev remain unimpress chart suggest shift far less signific foa mounk make argu danger totel world peopl readi accept nondemocrat govern want argu interpret data follow hyperlink reason point disagr dont much add debat observ rare data unambigu import societ shift shift actual occur data unambigu almost alway late anyth sure sign heart attack well heart attack similarli sure sign democrat collaps well democrat collaps whatev think data analysi also mount seri actual realworld elect result hard explain support liber democraci thrive decid serious take find also worth ask would differ took foa mounk find serious would collect respond would consequ one wed probabl invest lot civic educ next gener learn basic liber democraci understand better system authoritarian rule seem like good idea regardless similarli might collect invest consider resourc make strong public case liber democraci might also tri figur way make public institut outreach citizen make sure feel engag democraci think hard build intermediari institut help peopl feel though voic repres taken serious seem like thing regardless like reduc stress improv health diet heart attack parabl doctor told way prevent futur heart attack would give job social life spend next year strict bed rest eat kale chia seed salad might want littl certain realli high risk heart attack take risk serious would impos heavi cost recent crise offer exampl case key decisionmak ignor warn sign take sign serious would impos signific cost exampl hous bubbl mid warn ignor financi industri stake consider invest product line myth hous valu would go forev admit hous overvalu securit mortgag riskier advertis would cost invest bank dearli eventu realiti caught result damag far wors would paid attent earli warn sign similarli mani carbonintens industri fossil fuel produc push back find climat chang take find serious would forc signific chang industri result industri fund doubt uncertainti problem sinc gotten much wors becom harder take effect action earli scientist may alarmist wed much better shape listen would comfort could certain voeten right foa mounk wrong mayb inde noth worri given risk well recent string elect result id rather err side caution like threat heart attack threat autocraci militari rule replac liber democraci pretti seriou difficult recov dont want take chanc especi prevent medicin consist thing probabl anyway',\n",
       "  'lee drutmanwe take concern health liberal democracy seriouslythis post part polyarchy independent blog produced political reform program new america washington think tank devoted developing new idea new voice imagine otherwise healthy something start feeling weird sometimes short breath get migraine foot start swell little otherwise everything seems fine go doctor doctor run test tell youits probably nothing could sign coming heart attack push certainty doctor tell shes not sure human body complex system youre young otherwise pretty healthy could plenty explanation youre feeling little worrying safe side maybe reduce stress life eat healthier diet would youre sensible person youd probably err side precaution sure might nothing worry likelihood heart attack might low even low chance low chance something possibly fatal take chance especially recommendation le stress healthier diet good either way offer parable way thinking debate thats emerged past two week response amanda taubs new york time article profiling new finding roberto stefan foa yascha mounk finding raise alarm fact younger people time become le le likely say survey essential live democracy rather share sense alarm however several critic jumped foa mounk misinterpreting data generating unnecessary panic political scientist erik voeten example argued theiranalysis misleading article mounk foa document small shift opinion related issue arent nearly dramatic new york time graph suggests similarly wonkblogs jeff guoreanalyzed data argued far le alarming thanit seems foa mounk responded drawing analysis forthcoming journal democracy article also document increasing support among young people strong leader rising support extremism voeten however remains unimpressed chart suggesting shift far le significant foa mounk make argues dangerous totell world people ready accept nondemocratic governance want argue interpret data follow hyperlink reasonable point disagreement dont much add debate observe rare data unambiguous important societal shift shift actually occur data unambiguous almost always late anything sure sign heart attack well heart attack similarly sure sign democratic collapse well democratic collapse whatever think data analysis also mounting series actual realworld election result hard explain support liberal democracy thriving deciding seriously take finding also worth asking would differently took foa mounks finding seriously would collectively respond would consequence one wed probably invest lot civic education next generation learns basic liberal democracy understands better system authoritarian rule seems like good idea regardless similarly might collectively invest considerable resource making strong public case liberal democracy might also try figure way make public institution outreach citizen make sure feel engaged democracy think hard building intermediary institution help people feel though voice represented taken seriously seem like thing regardless like reducing stress improving health diet heart attack parable doctor told way prevent future heart attack would give job social life spend next year strict bed rest eating kale chia seed salad might want little certain really high risk heart attack taking risk seriously would impose heavy cost recent crisis offer example case key decisionmakers ignore warning sign taking sign seriously would imposed significant cost example housing bubble mid warning ignored financial industry staked considerable investment product line myth housing value would go forever admit housing overvalued securitized mortgage riskier advertised would cost investment bank dearly eventually reality caught resulting damage far worse would paid attention early warning sign similarly many carbonintensive industry fossil fuel producer pushed back finding climate change taking finding seriously would force significant change industry result industry funded doubt uncertainty problem since gotten much worse become harder take effective action early scientist may alarmist wed much better shape listened would comforted could certain voeten right foa mounk wrong maybe indeed nothing worry given risk well recent string election result id rather err side caution like threat heart attack threat autocracy military rule replacing liberal democracy pretty serious difficult recover dont want take chance especially preventive medicine consists thing probably anyway'],\n",
       " ['scott daviscolt gm ryan grigson say andrew luck contract make difficult build team indianapoli colt made andrew luck highestpaid player nfl histori offseason fiveyear million contract million guarante howev theyr alreadi find luck contract inhibit abil address weak part roster particularli defens friday colt gm ryan grigson fire colt start said difficult build team defens luck make much money accord keefer grigson point colt still young talent theyr hope develop defens howev blame luck contract colt gave weak defens th defens dvoa not accur other point last year denver bronco paid peyton man million base salari also boast elit defens luck also take million salari cap year less million man year ago million much come draft success colt not done well elit team like bronco patriot instanc colt handcuf luck contract draft go becom especi import use whatev money free agenc certainli possibl build good defens highpaid quarterback colt felt pay luck high sum money would difficult perhap reconsid final number',\n",
       "  'scott daviscolts gm ryan grigson say andrew luck contract make difficult build team indianapolis colt made andrew luck highestpaid player nfl history offseason fiveyear million contract million guaranteed however theyre already finding luck contract inhibiting ability address weakness part roster particularly defense friday colt gm ryan grigson fire colt start said difficult build team defense luck making much money according keefer grigson point colt still young talent theyre hoping develop defense however blaming luck contract colt gave weak defense th defensive dvoa not accurate others pointed last year denver bronco paid peyton manning million base salary also boasting elite defense luck also take million salary cap year le million manning year ago million much come drafting successfully colt not done well elite team like bronco patriot instance colt handcuffed luck contract drafting going become especially important use whatever money free agency certainly possible build good defense highpaid quarterback colt felt paying luck high sum money would difficult perhaps reconsidered final number'],\n",
       " ['trump deni report order mueller fireddavo switzerland reuter us presid donald trump deni report friday order special counsel robert mueller fire last june call fake news new york time report thursday trump back order white hous counsel threaten resign rather follow direct cite four peopl told matter fake news folk fake news trump told report davo ask report report steve holland',\n",
       "  'trump denies report ordered mueller fireddavos switzerland reuters u president donald trump denied report friday ordered special counsel robert mueller fired last june calling fake news new york time reported thursday trump backed order white house counsel threatened resign rather follow directive citing four people told matter fake news folk fake news trump told reporter davos asked report reporting steve holland'],\n",
       " ['franc sarkozi reveal passion insist comeback cardspari reuter former french presid nicola sarkozi publish new memoir thursday quick dismiss specul might return polit rescu old centerright parti shed support sinc presid emmanuel macron storm power entitl passion autobiographi document sarkozi rise power hurl barb former alli includ prime minist francoi fillon time offic sarkozi earn nicknam presid blingbl brash style close associ tycoon celebr elyse met marri former model carla bruni passion releas franc centerright fight surviv two year presid emmanuel macron elect win dynamit polit landscap sarkozi old parti le republicain lock infight struggl find direct squeez macron centrist parti far right book polit one not announc return sarkozi told magazin le point neither want get involv partisan debat would sew confus divis need would misplac nonetheless new appear last unifi figur french right close follow fear wari return bignam rival hope long sarkozi polit reincarn sarkozi retir twice polit first time lost reelect bid return lead parti quit fail win parti ticket run presid le republicain without leader laurent wauquiez step follow parti dismal show may european elect even sarkozi return frontlin polit would struggl put one side multipl investig includ financ reelect bid month learnt must stand trial charg corrupt influenc peddl relat alleg offer judg promot return inform parallel investig sarkozi deni wrongdo report simon carraud write richard lough edit luke baker hugh lawson newsreut',\n",
       "  'france sarkozy reveals passion insists comeback cardsparis reuters former french president nicolas sarkozy published new memoir thursday quick dismiss speculation might return politics rescue old centerright party shed support since president emmanuel macron stormed power entitled passion autobiography document sarkozys rise power hurling barb former ally including prime minister francois fillon time office sarkozy earned nickname president blingbling brash style close association tycoon celebrity elysee met married former model carla bruni passion released france centerright fight survival two year president emmanuel macron election win dynamited political landscape sarkozys old party le republicains locked infighting struggling find direction squeezed macron centrist party far right book political one not announce return sarkozy told magazine le point neither want get involved partisan debate would sew confusion division need would misplaced nonetheless new appearance last unifying figure french right closely followed fearfully wary return bigname rival hopefully long sarkozys political reincarnation sarkozy retired twice politics first time lost reelection bid returned lead party quit failed win party ticket run president le republicains without leader laurent wauquiez stepped following party dismal showing may european election even sarkozy return frontline politics would struggle put one side multiple investigation including financing reelection bid month learnt must stand trial charge corruption influence peddling relation allegation offered judge promotion return information parallel investigation sarkozy denied wrongdoing reporting simon carraud writing richard lough editing luke baker hugh lawson newsreuters'],\n",
       " ['pari hilton woman black uncl monti funeralpari hilton arriv lax wednesday dress pay last respect uncl monti brinson pari flew switzerland especi funer brinson use marri aunt kim richard monti die sunday long battl cancer loss obvious hit pari hard post pictur collag monti call incred man huge heart rip',\n",
       "  'paris hilton woman black uncle montys funeralparis hilton arrived lax wednesday dressed pay last respect uncle monty brinson paris flew switzerland especially funeral brinson used married aunt kim richards monty died sunday long battle cancer loss obviously hitting paris hard posted picture collage monty calling incredible man huge heart rip']]"
      ]
     },
     "execution_count": 4,
     "metadata": {},
     "output_type": "execute_result"
    }
   ],
   "source": [
    "data = clean_big_file(\"D:\\\\Kaggle\\\\all-the-news-2-1\\\\all-the-news-2-1.csv\")\n",
    "data = clean_list(data)\n",
    "data[:5]"
   ]
  },
  {
   "cell_type": "code",
   "execution_count": 5,
   "metadata": {
    "scrolled": true
   },
   "outputs": [
    {
     "name": "stdout",
     "output_type": "stream",
     "text": [
      "processing text data...\n",
      "Unexpected error: (<class 'UnicodeDecodeError'>, UnicodeDecodeError('utf-8', b's top doctors that too much time spent on the computer can cause damage to your health. Exercise is highly stressed by doctors around the globe and the only exercise a computer addict will be doing is typing up a storm. They can submerge themselves into obesity. This often causes depression as it begins to sink in. Addition itself is a serious health issue. I wouldn\\'t be surprised if they add a computer wing to rehab centers sometime in the near future. These problems are slowly spreading and we must come together to abolish them! Family time is an treasured value, to the @CAPS2 people, but lately, computers are ruining this tradition. With so @CAPS1 people absorbed with online drama, friends, and even video games, family interaction is declining. People slowly remove themselves from reality and enter an alternate world of cyberspace. They @MONTH1 only emerge from their rooms to use the bathroom and eat, scarcely resting. This can cause great tension or sorrow in @CAPS1 families. Who can erase the horrifying stories of abduction from their memories? Online predators are highly dangerous and extremely clever. Your children could be talking to someone they believe is another teenager looking for a friend to console in when, really, they are a forty-year-old serial killer waiting to find the right time to attack. Studies show that one fourth of online users have had an encounter with a dangerous person.\"\\t4\\t4\\t\\t8\\t\\t\\t\\t\\t\\t\\t\\t\\t\\t\\t\\t\\t\\t\\t\\t\\t\\t\\t\\t\\t\\r\\n12\\t1\\tDear @CAPS1 @CAPS2 I feel that computers do take away from peoples life and aren\\x92t as important than the other factors of life. First of all you know that the world is becoming obease because of lack of exercise. Also people don\\'t realize that @CAPS3 warming is becomeing a big problum. Finally familys arn\\'t as close as they used to be. these are all the reasons why computers arn\\'t important to human socioty. First of the world is becomeing obease and cumputers play a huge part in this. Computers don\\'t make people exercise they basicly just sit down on there couch and use the computer this won\\'t help amarica get back into shape. Also computers become a habbit if a person uses a computer everyday of there life it will become an addiction then they won\\'t be able to stop. Finally when people use the computer they don\\'t realize the lack exersise there getting. This is the first reason why computeres are a bad thing. Next @CAPS3 warming is mealting the polar ice caps. Computers play a part in @CAPS3 warming because they use electricty and thjen the electrisity melts the polar ice caps. If this keeps happining then they will all melt and we will not have a shorline and half of the world will be fluded. Finally computers play a huge part in @CAPS3 warming because of the fact that they are so popular. This is another reason why computers are bad. Finally the last reason why computers are bad is because they take away from your family life. For instance there are more and more familys splitting up now and sientest sat that @PERCENT1 of the time it\\'s because of technolagy. When on peroson is on the computer the other people feel that they love the computer more than they love themselfs. Then they split up for good. This is the last reason why I feel computers are bad. In conclution you can see that computeres are a bad thing. First of all you can see that amarica is becomeing obease because of the computers. Also computers are causeing @CAPS3 warming and are eventually goung to flood the earth. And last but not least computers take away from peoples family life and cause them to split up and become unhappy. These are all the reasons why computers are bad.\\t4\\t4\\t\\t8\\t\\t\\t\\t\\t\\t\\t\\t\\t\\t\\t\\t\\t\\t\\t\\t\\t\\t\\t\\t\\t\\r\\n13\\t1\\tDear local newspaper I raed ur argument on the computers and I think they are a positive effect on people. The first reson I think they are a good effect is because you can do so much with them like if you live in mane and ur cuzin lives in califan you and him could have a wed chat. The second thing you could do is look up news any were in the world you could be stuck on a plane and it would be vary boring when you can take but ur computer and go on ur computer at work and start doing work. When you said it takes away from exirsis well some people use the computer for that too to chart how fast they run or how meny miles they want and sometimes what they eat. The thrid reson is some peolpe jobs are on the computers or making computers for exmple when you made this artical you didnt use a type writer you used a computer and printed it out if we didnt have computers it would make ur @CAPS1 a lot harder. Thank you for reading and whe you are thinking adout it agen pleas consiter my thrie resons.\\t4\\t3\\t\\t7\\t\\t\\t\\t\\t\\t\\t\\t\\t\\t\\t\\t\\t\\t\\t\\t\\t\\t\\t\\t\\t\\r\\n14\\t1\\tMy three detaileds for this news paper article is one state you opinion about the effects of computers. Seconde give detailed resons that will persuade of the local newspaper to agree with yor postition. This are my three ideas to the news paper article. To bigin my opinion about the computer effects are wast time. Many people wast time computers like fat people insted by insted by in the computer go and run or exercising. Insted be computer go out ur girlfriend or family or family or friends to have fun. So be incomputer to long is bad many kids wach bad stuff like for adults. Is good to be in computer but not to long. To start you shod agree with me becasue my detailed and my reason. My resons are many airs the bas stuff like porn. Many kids wach that it ruins ther mainly and the futur. They get addicted to that watching. So people that use computer for good stuff its old for mids for good ganes of good. This are my detailed and resons for yor with me. To bigin and going to organize my ideas and well and present them clearly. It good to be at the computer but not the long insted go out plat and exersus. abd yor can enjoy life insted be in computer. The bad things many kids wach bad stuff and cmputer has relly bad staff. The computer is use for evrye thing this days. This how organize my ideas. In conclusion this are my ideas for the news papaer. Ols I state my opinion on computer effects. I give detailed and resons that will persuade local news paper and to agree with me. Think I organize my ideas as much present them clearly. This are my ideas so could new papaer to se computers effects. \\t3\\t3\\t\\t6\\t\\t\\t\\t\\t\\t\\t\\t\\t\\t\\t\\t\\t\\t\\t\\t\\t\\t\\t\\t\\t\\r\\n15\\t1\\t\"Dear, In this world today we should have everyone useing computers. Computers have a positive effect on people. They teach hand-eye coordination, give people the ability to learn about faraway places and people, and even allow people to talk online with other people. Today computers are like the worlds biggest book of knowledge. everything you need to know is in a computer. You can look up faraway places, and zap theres everything you need to know write in front of you. Computers are fast and easy, everyone can use them. Today kids are so addicted to computers everyday they are on them. There are so many websites that kids and teens go on, like @CAPS1, and facebook ect. on these websites kids as young as ten years old are chatting with friends and putting up pictures. Thers is also webchat websites that allow you to use a webcame and talk to people anywhere in the world. Computers are a great way to get in touch with people. Everyone should have a computer in there home today.\"\\t3\\t3\\t\\t6\\t\\t\\t\\t\\t\\t\\t\\t\\t\\t\\t\\t\\t\\t\\t\\t\\t\\t\\t\\t\\t\\r\\n16\\t1\\t\"Dear @ORGANIZATION1, The computer blinked to life and an image of a blonde haired girl filled the screen. It was easy to find out how life was in @LOCATION2, thanks to the actual @CAPS1 girl explaining it. Going to the library wouldn\\'t have filled one with this priceless information and human interection. Computers are a nessessity of life if soceity wishes to grow and expand. They should be supported because they teach hand eye coordination, give people the ability to learn about faraway places, and allow people to talk to others online. Firstly, computers help teach hand eye coordination. Hand-eye coordination is a useful ability that is usod to excel in sports. In a recent survey, @PERCENT1 of kids felt their hand eye coordination improves after computer use. Even a simple thing', 1539, 1540, 'invalid start byte'), <traceback object at 0x000002951E725B80>)\n",
      "processing text data...\n",
      "processing text data...\n",
      "processing text data...\n",
      "Unexpected error:  (<class 'FileNotFoundError'>, FileNotFoundError(2, 'The system cannot find the file specified'), <traceback object at 0x000002951E712540>)\n"
     ]
    }
   ],
   "source": [
    "all_data = []\n",
    "for key in train_docs.keys():\n",
    "    try:\n",
    "        data = get_data(train_docs[key])\n",
    "        big_data = process_data(data)\n",
    "        all_data.append(big_data)\n",
    "    except:\n",
    "        print(\"Unexpected error: \", sys.exc_info())"
   ]
  },
  {
   "cell_type": "code",
   "execution_count": 6,
   "metadata": {},
   "outputs": [
    {
     "data": {
      "text/plain": [
       "[['addit inform would need replic experi much vinegar place ident contain tool use measur mass four differ sampl much distil water use rins four sampl take vinegar',\n",
       "  'additional information would need replicate experiment much vinegar placed identical container tool use measure mass four different sample much distilled water use rinse four sample taking vinegar'],\n",
       " ['read expir realiz addit inform need replic expirei one amant vinegar pour contain two label contain start yar expir three write conclus make sure yar result accur',\n",
       "  'reading expirement realized additional information need replicate expireiment one amant vinegar poured container two label container start yar expirement three write conclusion make sure yar result accurate'],\n",
       " ['need trial control set exact amount vinegar pour cupbeak could also take check mass everi min hour',\n",
       "  'need trial control set exact amount vinegar pour cupbeaker could also take check mass every min hour'],\n",
       " ['student list rock better rock wors procedur',\n",
       "  'student list rock better rock worse procedure'],\n",
       " ['student abl make replic would need tell use much vinegar use tipe materi need expir',\n",
       "  'student able make replicate would need tell use much vinegar used tipe material needed expirement']]"
      ]
     },
     "execution_count": 6,
     "metadata": {},
     "output_type": "execute_result"
    }
   ],
   "source": [
    "all_data[0][:5]"
   ]
  },
  {
   "cell_type": "code",
   "execution_count": 7,
   "metadata": {},
   "outputs": [
    {
     "data": {
      "text/plain": [
       "[['dear local newspap think effect comput peopl great learn skillsaffect give us time chat friendsnew peopl help us learn globeastronomi keep us trobl thing dont think would feel teenag alway phone friend ever time chat friend buis partner thing well there new way chat comput plenti site internet organ organ cap facebook myspac ect think set meet boss comput teenag fun phone not rush get caus want use learn countrysst outsid well computerinternet new way learn go time might think child spend lot time comput ask question economi sea floor spread even date youll surpris much hesh know believ not comput much interest class day read book child home comput local librari better friend fresh perpressur someth know isnt right might not know child cap forbidd hospit bed drivebi rather child comput learn chat play game safe sound home commun place hope reach point understand agre comput great effect child give us time chat friendsnew peopl help us learn globe believ not keep us trobl thank listen',\n",
       "  'dear local newspaper think effect computer people great learning skillsaffects give u time chat friendsnew people help u learn globeastronomy keep u troble thing dont think would feel teenager always phone friend ever time chat friend buisness partner thing well there new way chat computer plenty site internet organization organization cap facebook myspace ect think setting meeting bos computer teenager fun phone not rushing get cause want use learn countrysstates outside well computerinternet new way learn going time might think child spends lot time computer ask question economy sea floor spreading even date youll surprise much heshe know believe not computer much interesting class day reading book child home computer local library better friend fresh perpressured something know isnt right might not know child cap forbidde hospital bed driveby rather child computer learning chatting playing game safe sound home community place hope reached point understand agree computer great effect child give u time chat friendsnew people help u learn globe believe not keep u troble thank listening'],\n",
       " ['dear cap cap believ use comput benefit us mani way like talk becom friend other websit like facebook mysac use comput help us find coordib locat abl ourself million inform also comput benefit us help job plan hous plan type num page report one job less write let go wonder world technolog use comput help us life talk make friend line mani peopl myspac facebook aim benefit us convers one anoth mani peopl believ comput bad make friend never talk fortun comput help not school work social life make friend comput help us find locat coordib million inform onlin didnt go internet lot wouldnt know go onto websit month help us locat coordin like locat would rather use comput locat suppos vacat locat million inform found internet almost everi question comput would rather easili draw hous plan comput take num hour one hand ugli eraz mark garrente find job draw like also appl job mani worker must write long paper like num word essay job fit mani peopl know dont like write num word nonstopp hour could take hav comput comput need lot aday hope essay impact descion comput great machin work day show mom use comput said greatest invent sens slice bread go buy comput help chat onlin friend find locat million inform one click button help self get job neat prepar print work boss love',\n",
       "  'dear cap cap believe using computer benefit u many way like talking becoming friend others website like facebook mysace using computer help u find coordibates location able ourselfs million information also computer benefit u helping job planning house plan typing num page report one job le writing let go wonder world technology using computer help u life talking making friend line many people myspace facebooks aim benefit u conversation one another many people believe computer bad make friend never talk fortunate computer help not school work social life make friend computer help u finding location coordibates million information online didnt go internet lot wouldnt know go onto website month help u location coordinate like location would rather use computer location supposed vacationing location million information found internet almost every question computer would rather easily draw house plan computer take num hour one hand ugly erazer mark garrenteed find job drawing like also appling job many worker must write long paper like num word essay job fit many people know dont like writing num word nonstopp hour could take hav computer computer needed lot adays hope essay impacted descion computer great machine work day showed mom use computer said greatest invention sense sliced bread go buy computer help chat online friend find location million information one click button help self getting job neat prepared printed work bos love'],\n",
       " ['dear cap cap cap peopl use comput not everyon agre benefit societi support advanc technolog believ comput posit effect peopl other differ idea great amount world today use comput work spme fun comput one man greatest accomplish comput help mani way cap news live stream dont get wrong way much peopl spend time comput interact other tell grow want author journalist know fact job involv lot time time comput one month spend time know exactli cap get expert think peopl spend much time comput not exercis enjoy natur interact famili friend expert know must peopl make live dont know peopl choos use comput great amount time honest non concern shouldnt call expert concern peopl interact thousand time day comput comput keep lot kid street instead caus troubl comput help organ locat want crimin see comput use societi think comput benefit societi',\n",
       "  'dear cap cap cap people use computer not everyone agrees benefit society support advance technology believe computer positive effect people others different idea great amount world today using computer work spme fun computer one man greatest accomplishment computer helpful many way cap news live stream dont get wrong way much people spend time computer interacting others tell grow want author journalist know fact job involve lot time time computer one month spend time know exactly cap getting expert think people spending much time computer not exercising enjoying nature interacting family friend expert know must people make living dont know people choose use computer great amount time honest non concern shouldnt called expert concern people interact thousand time day computer computer keep lot kid street instead causing trouble computer help organization locate wanted criminal see computer useful society think computer benefit society'],\n",
       " ['dear local newspap cap found mani expert say comput not benifit societi case true case studdi show comput help peopl noth beat talk person comput get realli close exampl webcam email percent student get good grade refer reliabl websit reasearch help find good book also onlin cataloug advertis help economi store worldwid cap peopl not allow use comput modern would not exist person said best form modern commun comput abil write talk write back much cheaper almost everi singl event go plane comput commun email cap student ever need homework lam sick need help studi test contact teacher best form commun alway email even post offic use comput get letter box peopl presid post offic person said cap would impos get mail coustmer cap cap not comput tell us zip code heavi box cap tell peopl happen around world would not exist cap cap not moder commun abil comput provid us inform commuc quick reasearch countri locat took pole percent peopl use comput type reasearch percent student current school percent good grade survey taken locat percent peopl use comput fore reason percent student good grade cap cap not posibl access document cap cap onlin probabl would not gotten cap assign could amagin cap suddenli newspap report couldnt use internet work report articl would probabl num event occur buiss includ newspap use internet advertis shop read associ organ report percent organ use websit percent good posit presid cap num import said use onlin cataloug cap cheaper also promot cap save tree castom convin small organ make websit promot selv explain star potenti coustom person owner organ said internet save restur cap cap wer not internet num peopl would jobless locat conclus comput help everyday peopl without convin would not exist help commun around world comput help peopl reaserch subject school report make current economi get better everyday moder comput use tool',\n",
       "  'dear local newspaper cap found many expert say computer not benifit society case true case studdies show computer help people nothing beat talking person computer get really close example webcam email percent student get good grade refer reliable website reasearch help find good book also online catalouges advertisments help economy store worldwide cap people not allowed use computer modern would not exist person said best form modern communication computer ability write talk write back much cheaper almost every single event go planed computer communication email cap student ever need homework lam sick need help studying test contact teacher best form communication always email even post office us computer get letter box people president post office person said cap would imposible get mail coustmers cap cap not computer telling u zip code heavy box cap tell people happening around world would not exist cap cap not moder communication ability computer provid u information commucated quick reasearch country location took pole percent people used computer type reasearch percent student currently school percent good grade survey taken location percent people used computer fore reason percent student good grade cap cap not posible access document cap cap online probably would not gotten cap assignment could amagine cap suddenly newspaper reporter couldnt use internet work report article would probably num event occur buissness including newspaper use internet advertise shop read association organization reported percent organization used website percent good position president cap num import said use online catalouge cap cheaper also promote cap save tree castomers convinence small organization make website promote self explain star potential coustomers person owner organization said internet saved resturant cap cap wer not internet num people would jobless location conclusion computer help everyday people without convinences would not exist help communicate around world computer help people reaserch subject school report make current economy get better everyday moderation computer useful tool'],\n",
       " ['dear locat know comput posit effect peopl comput connect famili contain inform great peopl educ conveint computor step futur take advantag first internet email help famili member connect famili live num hour away car love talk email help connect famili anoth reason computor anoth reason includ famili famili sit around call everywher find board game would easier go onlin find way would quick easi find one board game last reason comput would help famili famili want get kind activ need number could go onlin internet famili could find number inform way famili activ togeth one see comput bring famili togeth reason comput good societi educ inform tip finger peopl want learn day peopl tri find tool comput mae peopl get educ secondli comput anoth way go collag arnt go schoolcollag sick wouldnt miss anyth click button materi need miss lastli everyon know locat classroom cant afford one comput children want computor hard get one would chang much would abl learn much children could lean differ countri far away result comput would improv way learn last reason comput help convienc say world crazi dont go talk someon wont comput offer abil confrenc peopl would commun work parttner abil talk anoth work would make us lighter nation one mani reason comput convient subssiqu comput convient could book flight vacat rental much click button go cap nice vacat',\n",
       "  'dear location know computer positive effect people computer connect family contain information great people education conveint computors step future take advantage first internet email help family member connect family life num hour away car love talk email help connect family another reason computors another reason includes family family sitting around calling everywhere find board game would easier go online find way would quick easy find one board game last reason computer would help family family want get kind activity need number could go online internet family could find number information way family activity together one see computer bringing family together reason computer good society education information tip finger people want learn day people try find tool computer mae people get education secondly computer another way go collage arnt going schoolcollage sick wouldnt miss anything click button material needed missed lastly everyone know location classroom cant afford one computer child want computors hard get one would change much would able learn much child could lean different country far away result computer would improve way learn last reason computer helpful convience say world crazy dont go talk someone wont computer offer ability confrence people would communication work parttners ability talk another work would make u lighter nation one many reason computer conviente subssiquently computer conviente could book flight vacation rental much click button going cap nice vacation']]"
      ]
     },
     "execution_count": 7,
     "metadata": {},
     "output_type": "execute_result"
    }
   ],
   "source": [
    "all_data[1][:5]"
   ]
  },
  {
   "cell_type": "code",
   "execution_count": 8,
   "metadata": {},
   "outputs": [
    {
     "data": {
      "text/plain": [
       "[['fma exampl gener surpris hard', 'fma example general surprising hard'],\n",
       " ['combin achiev territori tend pick',\n",
       "  'combination achieve territory tends picked'],\n",
       " ['clean precis insight valuabl', 'clean precisely insight valuable'],\n",
       " ['either surpris without gener eg', 'either surprising without general eg'],\n",
       " ['gossip gener without surpris eg', 'gossip general without surprising eg']]"
      ]
     },
     "execution_count": 8,
     "metadata": {},
     "output_type": "execute_result"
    }
   ],
   "source": [
    "all_data[2][:5]"
   ]
  },
  {
   "cell_type": "code",
   "execution_count": 9,
   "metadata": {},
   "outputs": [
    {
     "data": {
      "text/plain": [
       "[['lee drutmanw take concern health liber democraci seriouslythi post part polyarchi independ blog produc polit reform program new america washington think tank devot develop new idea new voic imagin otherwis healthi someth start feel weird sometim short breath get migrain feet start swell littl otherwis everyth seem fine go doctor doctor run test tell youit probabl noth could sign come heart attack push certainti doctor tell she not sure human bodi complex system your young otherwis pretti healthi could plenti explan your feel littl worri safe side mayb reduc stress life eat healthier diet would your sensibl person youd probabl err side precaut sure might noth worri likelihood heart attack might low even low chanc low chanc someth possibl fatal take chanc especi recommend less stress healthier diet good either way offer parabl way think debat that emerg past two week respons amanda taub new york time articl profil new find roberto stefan foa yascha mounk find rais alarm fact younger peopl time becom less less like say survey essenti live democraci rather share sens alarm howev sever critic jump foa mounk misinterpret data gener unnecessari panic polit scientist erik voeten exampl argu theiranalysi mislead articl mounk foa document small shift opinion relat issu arent nearli dramat new york time graph suggest similarli wonkblog jeff guoreanalyz data argu far less alarm thanit seem foa mounk respond draw analysi forthcom journal democraci articl also document increas support among young peopl strong leader rise support extrem voeten howev remain unimpress chart suggest shift far less signific foa mounk make argu danger totel world peopl readi accept nondemocrat govern want argu interpret data follow hyperlink reason point disagr dont much add debat observ rare data unambigu import societ shift shift actual occur data unambigu almost alway late anyth sure sign heart attack well heart attack similarli sure sign democrat collaps well democrat collaps whatev think data analysi also mount seri actual realworld elect result hard explain support liber democraci thrive decid serious take find also worth ask would differ took foa mounk find serious would collect respond would consequ one wed probabl invest lot civic educ next gener learn basic liber democraci understand better system authoritarian rule seem like good idea regardless similarli might collect invest consider resourc make strong public case liber democraci might also tri figur way make public institut outreach citizen make sure feel engag democraci think hard build intermediari institut help peopl feel though voic repres taken serious seem like thing regardless like reduc stress improv health diet heart attack parabl doctor told way prevent futur heart attack would give job social life spend next year strict bed rest eat kale chia seed salad might want littl certain realli high risk heart attack take risk serious would impos heavi cost recent crise offer exampl case key decisionmak ignor warn sign take sign serious would impos signific cost exampl hous bubbl mid warn ignor financi industri stake consider invest product line myth hous valu would go forev admit hous overvalu securit mortgag riskier advertis would cost invest bank dearli eventu realiti caught result damag far wors would paid attent earli warn sign similarli mani carbonintens industri fossil fuel produc push back find climat chang take find serious would forc signific chang industri result industri fund doubt uncertainti problem sinc gotten much wors becom harder take effect action earli scientist may alarmist wed much better shape listen would comfort could certain voeten right foa mounk wrong mayb inde noth worri given risk well recent string elect result id rather err side caution like threat heart attack threat autocraci militari rule replac liber democraci pretti seriou difficult recov dont want take chanc especi prevent medicin consist thing probabl anyway',\n",
       "  'lee drutmanwe take concern health liberal democracy seriouslythis post part polyarchy independent blog produced political reform program new america washington think tank devoted developing new idea new voice imagine otherwise healthy something start feeling weird sometimes short breath get migraine foot start swell little otherwise everything seems fine go doctor doctor run test tell youits probably nothing could sign coming heart attack push certainty doctor tell shes not sure human body complex system youre young otherwise pretty healthy could plenty explanation youre feeling little worrying safe side maybe reduce stress life eat healthier diet would youre sensible person youd probably err side precaution sure might nothing worry likelihood heart attack might low even low chance low chance something possibly fatal take chance especially recommendation le stress healthier diet good either way offer parable way thinking debate thats emerged past two week response amanda taubs new york time article profiling new finding roberto stefan foa yascha mounk finding raise alarm fact younger people time become le le likely say survey essential live democracy rather share sense alarm however several critic jumped foa mounk misinterpreting data generating unnecessary panic political scientist erik voeten example argued theiranalysis misleading article mounk foa document small shift opinion related issue arent nearly dramatic new york time graph suggests similarly wonkblogs jeff guoreanalyzed data argued far le alarming thanit seems foa mounk responded drawing analysis forthcoming journal democracy article also document increasing support among young people strong leader rising support extremism voeten however remains unimpressed chart suggesting shift far le significant foa mounk make argues dangerous totell world people ready accept nondemocratic governance want argue interpret data follow hyperlink reasonable point disagreement dont much add debate observe rare data unambiguous important societal shift shift actually occur data unambiguous almost always late anything sure sign heart attack well heart attack similarly sure sign democratic collapse well democratic collapse whatever think data analysis also mounting series actual realworld election result hard explain support liberal democracy thriving deciding seriously take finding also worth asking would differently took foa mounks finding seriously would collectively respond would consequence one wed probably invest lot civic education next generation learns basic liberal democracy understands better system authoritarian rule seems like good idea regardless similarly might collectively invest considerable resource making strong public case liberal democracy might also try figure way make public institution outreach citizen make sure feel engaged democracy think hard building intermediary institution help people feel though voice represented taken seriously seem like thing regardless like reducing stress improving health diet heart attack parable doctor told way prevent future heart attack would give job social life spend next year strict bed rest eating kale chia seed salad might want little certain really high risk heart attack taking risk seriously would impose heavy cost recent crisis offer example case key decisionmakers ignore warning sign taking sign seriously would imposed significant cost example housing bubble mid warning ignored financial industry staked considerable investment product line myth housing value would go forever admit housing overvalued securitized mortgage riskier advertised would cost investment bank dearly eventually reality caught resulting damage far worse would paid attention early warning sign similarly many carbonintensive industry fossil fuel producer pushed back finding climate change taking finding seriously would force significant change industry result industry funded doubt uncertainty problem since gotten much worse become harder take effective action early scientist may alarmist wed much better shape listened would comforted could certain voeten right foa mounk wrong maybe indeed nothing worry given risk well recent string election result id rather err side caution like threat heart attack threat autocracy military rule replacing liberal democracy pretty serious difficult recover dont want take chance especially preventive medicine consists thing probably anyway'],\n",
       " ['scott daviscolt gm ryan grigson say andrew luck contract make difficult build team indianapoli colt made andrew luck highestpaid player nfl histori offseason fiveyear million contract million guarante howev theyr alreadi find luck contract inhibit abil address weak part roster particularli defens friday colt gm ryan grigson fire colt start said difficult build team defens luck make much money accord keefer grigson point colt still young talent theyr hope develop defens howev blame luck contract colt gave weak defens th defens dvoa not accur other point last year denver bronco paid peyton man million base salari also boast elit defens luck also take million salari cap year less million man year ago million much come draft success colt not done well elit team like bronco patriot instanc colt handcuf luck contract draft go becom especi import use whatev money free agenc certainli possibl build good defens highpaid quarterback colt felt pay luck high sum money would difficult perhap reconsid final number',\n",
       "  'scott daviscolts gm ryan grigson say andrew luck contract make difficult build team indianapolis colt made andrew luck highestpaid player nfl history offseason fiveyear million contract million guaranteed however theyre already finding luck contract inhibiting ability address weakness part roster particularly defense friday colt gm ryan grigson fire colt start said difficult build team defense luck making much money according keefer grigson point colt still young talent theyre hoping develop defense however blaming luck contract colt gave weak defense th defensive dvoa not accurate others pointed last year denver bronco paid peyton manning million base salary also boasting elite defense luck also take million salary cap year le million manning year ago million much come drafting successfully colt not done well elite team like bronco patriot instance colt handcuffed luck contract drafting going become especially important use whatever money free agency certainly possible build good defense highpaid quarterback colt felt paying luck high sum money would difficult perhaps reconsidered final number'],\n",
       " ['trump deni report order mueller fireddavo switzerland reuter us presid donald trump deni report friday order special counsel robert mueller fire last june call fake news new york time report thursday trump back order white hous counsel threaten resign rather follow direct cite four peopl told matter fake news folk fake news trump told report davo ask report report steve holland',\n",
       "  'trump denies report ordered mueller fireddavos switzerland reuters u president donald trump denied report friday ordered special counsel robert mueller fired last june calling fake news new york time reported thursday trump backed order white house counsel threatened resign rather follow directive citing four people told matter fake news folk fake news trump told reporter davos asked report reporting steve holland'],\n",
       " ['franc sarkozi reveal passion insist comeback cardspari reuter former french presid nicola sarkozi publish new memoir thursday quick dismiss specul might return polit rescu old centerright parti shed support sinc presid emmanuel macron storm power entitl passion autobiographi document sarkozi rise power hurl barb former alli includ prime minist francoi fillon time offic sarkozi earn nicknam presid blingbl brash style close associ tycoon celebr elyse met marri former model carla bruni passion releas franc centerright fight surviv two year presid emmanuel macron elect win dynamit polit landscap sarkozi old parti le republicain lock infight struggl find direct squeez macron centrist parti far right book polit one not announc return sarkozi told magazin le point neither want get involv partisan debat would sew confus divis need would misplac nonetheless new appear last unifi figur french right close follow fear wari return bignam rival hope long sarkozi polit reincarn sarkozi retir twice polit first time lost reelect bid return lead parti quit fail win parti ticket run presid le republicain without leader laurent wauquiez step follow parti dismal show may european elect even sarkozi return frontlin polit would struggl put one side multipl investig includ financ reelect bid month learnt must stand trial charg corrupt influenc peddl relat alleg offer judg promot return inform parallel investig sarkozi deni wrongdo report simon carraud write richard lough edit luke baker hugh lawson newsreut',\n",
       "  'france sarkozy reveals passion insists comeback cardsparis reuters former french president nicolas sarkozy published new memoir thursday quick dismiss speculation might return politics rescue old centerright party shed support since president emmanuel macron stormed power entitled passion autobiography document sarkozys rise power hurling barb former ally including prime minister francois fillon time office sarkozy earned nickname president blingbling brash style close association tycoon celebrity elysee met married former model carla bruni passion released france centerright fight survival two year president emmanuel macron election win dynamited political landscape sarkozys old party le republicains locked infighting struggling find direction squeezed macron centrist party far right book political one not announce return sarkozy told magazine le point neither want get involved partisan debate would sew confusion division need would misplaced nonetheless new appearance last unifying figure french right closely followed fearfully wary return bigname rival hopefully long sarkozys political reincarnation sarkozy retired twice politics first time lost reelection bid returned lead party quit failed win party ticket run president le republicains without leader laurent wauquiez stepped following party dismal showing may european election even sarkozy return frontline politics would struggle put one side multiple investigation including financing reelection bid month learnt must stand trial charge corruption influence peddling relation allegation offered judge promotion return information parallel investigation sarkozy denied wrongdoing reporting simon carraud writing richard lough editing luke baker hugh lawson newsreuters'],\n",
       " ['pari hilton woman black uncl monti funeralpari hilton arriv lax wednesday dress pay last respect uncl monti brinson pari flew switzerland especi funer brinson use marri aunt kim richard monti die sunday long battl cancer loss obvious hit pari hard post pictur collag monti call incred man huge heart rip',\n",
       "  'paris hilton woman black uncle montys funeralparis hilton arrived lax wednesday dressed pay last respect uncle monty brinson paris flew switzerland especially funeral brinson used married aunt kim richards monty died sunday long battle cancer loss obviously hitting paris hard posted picture collage monty calling incredible man huge heart rip']]"
      ]
     },
     "execution_count": 9,
     "metadata": {},
     "output_type": "execute_result"
    }
   ],
   "source": [
    "all_data[3][:5]"
   ]
  },
  {
   "cell_type": "markdown",
   "metadata": {},
   "source": [
    "## First Glance\n",
    "\n",
    "all_data[1] looks to be the most interesting data set for this project, so we'll use that one going forward."
   ]
  },
  {
   "cell_type": "code",
   "execution_count": 10,
   "metadata": {},
   "outputs": [
    {
     "name": "stderr",
     "output_type": "stream",
     "text": [
      "[nltk_data] Downloading package stopwords to\n",
      "[nltk_data]     C:\\Users\\maxw2\\AppData\\Roaming\\nltk_data...\n",
      "[nltk_data]   Package stopwords is already up-to-date!\n",
      "[nltk_data] Downloading package wordnet to\n",
      "[nltk_data]     C:\\Users\\maxw2\\AppData\\Roaming\\nltk_data...\n",
      "[nltk_data]   Package wordnet is already up-to-date!\n"
     ]
    },
    {
     "data": {
      "text/html": [
       "<div>\n",
       "<style scoped>\n",
       "    .dataframe tbody tr th:only-of-type {\n",
       "        vertical-align: middle;\n",
       "    }\n",
       "\n",
       "    .dataframe tbody tr th {\n",
       "        vertical-align: top;\n",
       "    }\n",
       "\n",
       "    .dataframe thead th {\n",
       "        text-align: right;\n",
       "    }\n",
       "</style>\n",
       "<table border=\"1\" class=\"dataframe\">\n",
       "  <thead>\n",
       "    <tr style=\"text-align: right;\">\n",
       "      <th></th>\n",
       "      <th>essay_id</th>\n",
       "      <th>essay_set</th>\n",
       "      <th>essay</th>\n",
       "      <th>rater1_domain1</th>\n",
       "      <th>rater2_domain1</th>\n",
       "      <th>rater3_domain1</th>\n",
       "      <th>domain1_score</th>\n",
       "      <th>rater1_domain2</th>\n",
       "      <th>rater2_domain2</th>\n",
       "      <th>domain2_score</th>\n",
       "      <th>...</th>\n",
       "      <th>rater2_trait3</th>\n",
       "      <th>rater2_trait4</th>\n",
       "      <th>rater2_trait5</th>\n",
       "      <th>rater2_trait6</th>\n",
       "      <th>rater3_trait1</th>\n",
       "      <th>rater3_trait2</th>\n",
       "      <th>rater3_trait3</th>\n",
       "      <th>rater3_trait4</th>\n",
       "      <th>rater3_trait5</th>\n",
       "      <th>rater3_trait6</th>\n",
       "    </tr>\n",
       "  </thead>\n",
       "  <tbody>\n",
       "    <tr>\n",
       "      <th>0</th>\n",
       "      <td>1</td>\n",
       "      <td>1</td>\n",
       "      <td>Dear local newspaper, I think effects computer...</td>\n",
       "      <td>4</td>\n",
       "      <td>4</td>\n",
       "      <td>NaN</td>\n",
       "      <td>8</td>\n",
       "      <td>NaN</td>\n",
       "      <td>NaN</td>\n",
       "      <td>NaN</td>\n",
       "      <td>...</td>\n",
       "      <td>NaN</td>\n",
       "      <td>NaN</td>\n",
       "      <td>NaN</td>\n",
       "      <td>NaN</td>\n",
       "      <td>NaN</td>\n",
       "      <td>NaN</td>\n",
       "      <td>NaN</td>\n",
       "      <td>NaN</td>\n",
       "      <td>NaN</td>\n",
       "      <td>NaN</td>\n",
       "    </tr>\n",
       "    <tr>\n",
       "      <th>1</th>\n",
       "      <td>2</td>\n",
       "      <td>1</td>\n",
       "      <td>Dear @CAPS1 @CAPS2, I believe that using compu...</td>\n",
       "      <td>5</td>\n",
       "      <td>4</td>\n",
       "      <td>NaN</td>\n",
       "      <td>9</td>\n",
       "      <td>NaN</td>\n",
       "      <td>NaN</td>\n",
       "      <td>NaN</td>\n",
       "      <td>...</td>\n",
       "      <td>NaN</td>\n",
       "      <td>NaN</td>\n",
       "      <td>NaN</td>\n",
       "      <td>NaN</td>\n",
       "      <td>NaN</td>\n",
       "      <td>NaN</td>\n",
       "      <td>NaN</td>\n",
       "      <td>NaN</td>\n",
       "      <td>NaN</td>\n",
       "      <td>NaN</td>\n",
       "    </tr>\n",
       "    <tr>\n",
       "      <th>2</th>\n",
       "      <td>3</td>\n",
       "      <td>1</td>\n",
       "      <td>Dear, @CAPS1 @CAPS2 @CAPS3 More and more peopl...</td>\n",
       "      <td>4</td>\n",
       "      <td>3</td>\n",
       "      <td>NaN</td>\n",
       "      <td>7</td>\n",
       "      <td>NaN</td>\n",
       "      <td>NaN</td>\n",
       "      <td>NaN</td>\n",
       "      <td>...</td>\n",
       "      <td>NaN</td>\n",
       "      <td>NaN</td>\n",
       "      <td>NaN</td>\n",
       "      <td>NaN</td>\n",
       "      <td>NaN</td>\n",
       "      <td>NaN</td>\n",
       "      <td>NaN</td>\n",
       "      <td>NaN</td>\n",
       "      <td>NaN</td>\n",
       "      <td>NaN</td>\n",
       "    </tr>\n",
       "    <tr>\n",
       "      <th>3</th>\n",
       "      <td>4</td>\n",
       "      <td>1</td>\n",
       "      <td>Dear Local Newspaper, @CAPS1 I have found that...</td>\n",
       "      <td>5</td>\n",
       "      <td>5</td>\n",
       "      <td>NaN</td>\n",
       "      <td>10</td>\n",
       "      <td>NaN</td>\n",
       "      <td>NaN</td>\n",
       "      <td>NaN</td>\n",
       "      <td>...</td>\n",
       "      <td>NaN</td>\n",
       "      <td>NaN</td>\n",
       "      <td>NaN</td>\n",
       "      <td>NaN</td>\n",
       "      <td>NaN</td>\n",
       "      <td>NaN</td>\n",
       "      <td>NaN</td>\n",
       "      <td>NaN</td>\n",
       "      <td>NaN</td>\n",
       "      <td>NaN</td>\n",
       "    </tr>\n",
       "    <tr>\n",
       "      <th>4</th>\n",
       "      <td>5</td>\n",
       "      <td>1</td>\n",
       "      <td>Dear @LOCATION1, I know having computers has a...</td>\n",
       "      <td>4</td>\n",
       "      <td>4</td>\n",
       "      <td>NaN</td>\n",
       "      <td>8</td>\n",
       "      <td>NaN</td>\n",
       "      <td>NaN</td>\n",
       "      <td>NaN</td>\n",
       "      <td>...</td>\n",
       "      <td>NaN</td>\n",
       "      <td>NaN</td>\n",
       "      <td>NaN</td>\n",
       "      <td>NaN</td>\n",
       "      <td>NaN</td>\n",
       "      <td>NaN</td>\n",
       "      <td>NaN</td>\n",
       "      <td>NaN</td>\n",
       "      <td>NaN</td>\n",
       "      <td>NaN</td>\n",
       "    </tr>\n",
       "  </tbody>\n",
       "</table>\n",
       "<p>5 rows × 28 columns</p>\n",
       "</div>"
      ],
      "text/plain": [
       "   essay_id  essay_set                                              essay  \\\n",
       "0         1          1  Dear local newspaper, I think effects computer...   \n",
       "1         2          1  Dear @CAPS1 @CAPS2, I believe that using compu...   \n",
       "2         3          1  Dear, @CAPS1 @CAPS2 @CAPS3 More and more peopl...   \n",
       "3         4          1  Dear Local Newspaper, @CAPS1 I have found that...   \n",
       "4         5          1  Dear @LOCATION1, I know having computers has a...   \n",
       "\n",
       "   rater1_domain1  rater2_domain1  rater3_domain1  domain1_score  \\\n",
       "0               4               4             NaN              8   \n",
       "1               5               4             NaN              9   \n",
       "2               4               3             NaN              7   \n",
       "3               5               5             NaN             10   \n",
       "4               4               4             NaN              8   \n",
       "\n",
       "   rater1_domain2  rater2_domain2  domain2_score  ...  rater2_trait3  \\\n",
       "0             NaN             NaN            NaN  ...            NaN   \n",
       "1             NaN             NaN            NaN  ...            NaN   \n",
       "2             NaN             NaN            NaN  ...            NaN   \n",
       "3             NaN             NaN            NaN  ...            NaN   \n",
       "4             NaN             NaN            NaN  ...            NaN   \n",
       "\n",
       "   rater2_trait4  rater2_trait5  rater2_trait6  rater3_trait1  rater3_trait2  \\\n",
       "0            NaN            NaN            NaN            NaN            NaN   \n",
       "1            NaN            NaN            NaN            NaN            NaN   \n",
       "2            NaN            NaN            NaN            NaN            NaN   \n",
       "3            NaN            NaN            NaN            NaN            NaN   \n",
       "4            NaN            NaN            NaN            NaN            NaN   \n",
       "\n",
       "   rater3_trait3  rater3_trait4  rater3_trait5  rater3_trait6  \n",
       "0            NaN            NaN            NaN            NaN  \n",
       "1            NaN            NaN            NaN            NaN  \n",
       "2            NaN            NaN            NaN            NaN  \n",
       "3            NaN            NaN            NaN            NaN  \n",
       "4            NaN            NaN            NaN            NaN  \n",
       "\n",
       "[5 rows x 28 columns]"
      ]
     },
     "execution_count": 10,
     "metadata": {},
     "output_type": "execute_result"
    }
   ],
   "source": [
    "# Run the utilty functions from a seperate notebook\n",
    "%run topic_model_utils.ipynb\n",
    "\n",
    "data = pd.read_csv(\"D:\\\\Kaggle\\\\asap-aes\\\\training_set_rel3.tsv\", sep='\\t')\n",
    "data.head()"
   ]
  },
  {
   "cell_type": "code",
   "execution_count": 11,
   "metadata": {},
   "outputs": [],
   "source": [
    "# tokenize essays\n",
    "data['tokenized_essay'] = data.essay.apply(process_text)\n",
    "# drop some unused features\n",
    "cols_to_drop = [col for col in data.columns if 'rater' in col]\n",
    "data = data.drop(columns=cols_to_drop)"
   ]
  },
  {
   "cell_type": "code",
   "execution_count": 12,
   "metadata": {},
   "outputs": [
    {
     "data": {
      "text/html": [
       "<div>\n",
       "<style scoped>\n",
       "    .dataframe tbody tr th:only-of-type {\n",
       "        vertical-align: middle;\n",
       "    }\n",
       "\n",
       "    .dataframe tbody tr th {\n",
       "        vertical-align: top;\n",
       "    }\n",
       "\n",
       "    .dataframe thead th {\n",
       "        text-align: right;\n",
       "    }\n",
       "</style>\n",
       "<table border=\"1\" class=\"dataframe\">\n",
       "  <thead>\n",
       "    <tr style=\"text-align: right;\">\n",
       "      <th></th>\n",
       "      <th>essay_id</th>\n",
       "      <th>essay_set</th>\n",
       "      <th>essay</th>\n",
       "      <th>domain1_score</th>\n",
       "      <th>domain2_score</th>\n",
       "      <th>tokenized_essay</th>\n",
       "    </tr>\n",
       "  </thead>\n",
       "  <tbody>\n",
       "    <tr>\n",
       "      <th>0</th>\n",
       "      <td>1</td>\n",
       "      <td>1</td>\n",
       "      <td>Dear local newspaper, I think effects computer...</td>\n",
       "      <td>8</td>\n",
       "      <td>NaN</td>\n",
       "      <td>[dear, local, newspaper, think, effect, comput...</td>\n",
       "    </tr>\n",
       "    <tr>\n",
       "      <th>1</th>\n",
       "      <td>2</td>\n",
       "      <td>1</td>\n",
       "      <td>Dear @CAPS1 @CAPS2, I believe that using compu...</td>\n",
       "      <td>9</td>\n",
       "      <td>NaN</td>\n",
       "      <td>[dear, believe, using, computer, benefit, way,...</td>\n",
       "    </tr>\n",
       "    <tr>\n",
       "      <th>2</th>\n",
       "      <td>3</td>\n",
       "      <td>1</td>\n",
       "      <td>Dear, @CAPS1 @CAPS2 @CAPS3 More and more peopl...</td>\n",
       "      <td>7</td>\n",
       "      <td>NaN</td>\n",
       "      <td>[dear, people, use, computer, agrees, benefit,...</td>\n",
       "    </tr>\n",
       "    <tr>\n",
       "      <th>3</th>\n",
       "      <td>4</td>\n",
       "      <td>1</td>\n",
       "      <td>Dear Local Newspaper, @CAPS1 I have found that...</td>\n",
       "      <td>10</td>\n",
       "      <td>NaN</td>\n",
       "      <td>[dear, local, newspaper, expert, computer, ben...</td>\n",
       "    </tr>\n",
       "    <tr>\n",
       "      <th>4</th>\n",
       "      <td>5</td>\n",
       "      <td>1</td>\n",
       "      <td>Dear @LOCATION1, I know having computers has a...</td>\n",
       "      <td>8</td>\n",
       "      <td>NaN</td>\n",
       "      <td>[dear, location, know, having, computer, posit...</td>\n",
       "    </tr>\n",
       "  </tbody>\n",
       "</table>\n",
       "</div>"
      ],
      "text/plain": [
       "   essay_id  essay_set                                              essay  \\\n",
       "0         1          1  Dear local newspaper, I think effects computer...   \n",
       "1         2          1  Dear @CAPS1 @CAPS2, I believe that using compu...   \n",
       "2         3          1  Dear, @CAPS1 @CAPS2 @CAPS3 More and more peopl...   \n",
       "3         4          1  Dear Local Newspaper, @CAPS1 I have found that...   \n",
       "4         5          1  Dear @LOCATION1, I know having computers has a...   \n",
       "\n",
       "   domain1_score  domain2_score  \\\n",
       "0              8            NaN   \n",
       "1              9            NaN   \n",
       "2              7            NaN   \n",
       "3             10            NaN   \n",
       "4              8            NaN   \n",
       "\n",
       "                                     tokenized_essay  \n",
       "0  [dear, local, newspaper, think, effect, comput...  \n",
       "1  [dear, believe, using, computer, benefit, way,...  \n",
       "2  [dear, people, use, computer, agrees, benefit,...  \n",
       "3  [dear, local, newspaper, expert, computer, ben...  \n",
       "4  [dear, location, know, having, computer, posit...  "
      ]
     },
     "execution_count": 12,
     "metadata": {},
     "output_type": "execute_result"
    }
   ],
   "source": [
    "data.head()"
   ]
  },
  {
   "cell_type": "code",
   "execution_count": 13,
   "metadata": {},
   "outputs": [
    {
     "data": {
      "text/plain": [
       "3     2830\n",
       "2     2445\n",
       "1     1736\n",
       "4     1424\n",
       "8      737\n",
       "0      418\n",
       "9      383\n",
       "10     372\n",
       "16     199\n",
       "11     165\n",
       "7      163\n",
       "40     161\n",
       "17     160\n",
       "6      137\n",
       "12     133\n",
       "18     118\n",
       "14     105\n",
       "20     103\n",
       "24      99\n",
       "5       96\n",
       "19      88\n",
       "15      86\n",
       "13      82\n",
       "21      70\n",
       "36      65\n",
       "22      63\n",
       "23      53\n",
       "30      49\n",
       "35      47\n",
       "37      39\n",
       "34      39\n",
       "32      37\n",
       "31      34\n",
       "33      32\n",
       "45      31\n",
       "42      23\n",
       "41      22\n",
       "38      20\n",
       "43      15\n",
       "44      14\n",
       "50      13\n",
       "46      13\n",
       "28      11\n",
       "29       8\n",
       "39       8\n",
       "47       7\n",
       "27       6\n",
       "25       5\n",
       "26       4\n",
       "48       3\n",
       "49       2\n",
       "55       2\n",
       "60       1\n",
       "Name: domain1_score, dtype: int64"
      ]
     },
     "execution_count": 13,
     "metadata": {},
     "output_type": "execute_result"
    }
   ],
   "source": [
    "# examine what looks like the dependent variable\n",
    "data['domain1_score'].value_counts()"
   ]
  },
  {
   "cell_type": "code",
   "execution_count": 14,
   "metadata": {},
   "outputs": [
    {
     "data": {
      "text/plain": [
       "array([ 8,  9,  7, 10,  6, 12,  4,  3, 11,  2,  5,  1,  0, 15, 13, 17, 23,\n",
       "       16, 18, 19, 14, 21, 24, 20, 22, 34, 46, 40, 30, 26, 41, 31, 44, 36,\n",
       "       43, 45, 35, 42, 33, 38, 47, 32, 50, 39, 37, 55, 60, 28, 49, 29, 27,\n",
       "       25, 48], dtype=int64)"
      ]
     },
     "execution_count": 14,
     "metadata": {},
     "output_type": "execute_result"
    }
   ],
   "source": [
    "data['domain1_score'].unique()"
   ]
  },
  {
   "cell_type": "markdown",
   "metadata": {},
   "source": [
    "It seems like the scores are really all over the place. \n",
    "\n",
    "Glacing at the information on the data set, each essay set has a different scale. \n",
    "\n",
    "So the next step would be to standardize the scales between essay sets."
   ]
  },
  {
   "cell_type": "code",
   "execution_count": 30,
   "metadata": {},
   "outputs": [
    {
     "name": "stdout",
     "output_type": "stream",
     "text": [
      "0    12\n",
      "1    12\n",
      "2    12\n",
      "3    12\n",
      "4    12\n",
      "Name: max_score, dtype: int64\n",
      "5309    3\n",
      "5310    3\n",
      "5311    3\n",
      "5312    3\n",
      "5313    3\n",
      "Name: max_score, dtype: int64\n",
      "10684    30\n",
      "10685    30\n",
      "10686    30\n",
      "10687    30\n",
      "10688    30\n",
      "Name: max_score, dtype: int64\n",
      "12253    60\n",
      "12254    60\n",
      "12255    60\n",
      "12256    60\n",
      "12257    60\n",
      "Name: max_score, dtype: int64\n"
     ]
    }
   ],
   "source": [
    "# at this point, I'm not sure about the \n",
    "# domain2_score, so I'll just keep it for now.\n",
    "\n",
    "# replace NaN w/ 0\n",
    "data = data.fillna(0)\n",
    "\n",
    "# add a max_score column to use later \n",
    "# for standardizing scores, as all the \n",
    "# different essays sets have different \n",
    "# scales on which they were scored\n",
    "data['max_score'] = 0\n",
    "essay_sets = data.essay_set.unique()\n",
    "\n",
    "for set_ in essay_sets:\n",
    "    if set_ == 1:\n",
    "        data.loc[data.essay_set == set_, 'max_score'] = 12\n",
    "    if set_ == 2:\n",
    "        data.loc[data.essay_set == set_, 'max_score'] = 10\n",
    "    if set_ == 3 or set_ == 4:\n",
    "        data.loc[data.essay_set == set_, 'max_score'] = 3\n",
    "    if set_ == 5 or set_ == 6:\n",
    "        data.loc[data.essay_set == set_, 'max_score'] = 4\n",
    "    if set_ == 7:\n",
    "        data.loc[data.essay_set == set_, 'max_score'] = 30\n",
    "    if set_ == 8:\n",
    "        data.loc[data.essay_set == set_, 'max_score'] = 60\n",
    "# spot checking some of the data\n",
    "print(data.loc[data.essay_set == 1, 'max_score'][:5])\n",
    "print(data.loc[data.essay_set == 4, 'max_score'][:5])\n",
    "print(data.loc[data.essay_set == 7, 'max_score'][:5])\n",
    "print(data.loc[data.essay_set == 8, 'max_score'][:5])"
   ]
  },
  {
   "cell_type": "code",
   "execution_count": 16,
   "metadata": {},
   "outputs": [],
   "source": [
    "# create temp column for \n",
    "# model's later internal classes\n",
    "data['temp'] = 0\n",
    "for set_ in essay_sets:\n",
    "    if set_ == 2:\n",
    "        data.loc[data.essay_set == set_, 'temp'] = (data.loc[data.essay_set==set_,'domain1_score'] \\\n",
    "                                                   + data.loc[data.essay_set==set_,'domain2_score']) \\\n",
    "                                                   / data.loc[data.essay_set==set_,'max_score']\n",
    "        continue\n",
    "    else:\n",
    "        data.loc[data.essay_set == set_, 'temp'] = data.loc[data.essay_set==set_,'domain1_score'] \\\n",
    "                                                   / data.loc[data.essay_set==set_,'max_score']"
   ]
  },
  {
   "cell_type": "code",
   "execution_count": 17,
   "metadata": {},
   "outputs": [
    {
     "name": "stderr",
     "output_type": "stream",
     "text": [
      "<ipython-input-17-cebdbcdee144>:16: SettingWithCopyWarning: \n",
      "A value is trying to be set on a copy of a slice from a DataFrame\n",
      "\n",
      "See the caveats in the documentation: https://pandas.pydata.org/pandas-docs/stable/user_guide/indexing.html#returning-a-view-versus-a-copy\n",
      "  data['class'][x] = 2\n",
      "<ipython-input-17-cebdbcdee144>:13: SettingWithCopyWarning: \n",
      "A value is trying to be set on a copy of a slice from a DataFrame\n",
      "\n",
      "See the caveats in the documentation: https://pandas.pydata.org/pandas-docs/stable/user_guide/indexing.html#returning-a-view-versus-a-copy\n",
      "  data['class'][x] = 3\n",
      "<ipython-input-17-cebdbcdee144>:10: SettingWithCopyWarning: \n",
      "A value is trying to be set on a copy of a slice from a DataFrame\n",
      "\n",
      "See the caveats in the documentation: https://pandas.pydata.org/pandas-docs/stable/user_guide/indexing.html#returning-a-view-versus-a-copy\n",
      "  data['class'][x] = 4\n",
      "<ipython-input-17-cebdbcdee144>:7: SettingWithCopyWarning: \n",
      "A value is trying to be set on a copy of a slice from a DataFrame\n",
      "\n",
      "See the caveats in the documentation: https://pandas.pydata.org/pandas-docs/stable/user_guide/indexing.html#returning-a-view-versus-a-copy\n",
      "  data['class'][x] = 5\n"
     ]
    }
   ],
   "source": [
    "# re-classify each paper on a scale of 1-5,\n",
    "# with 5 being a high score (like an A on an \n",
    "# ABCDF scale)\n",
    "data['class'] = 1\n",
    "for x in range(len(data)):\n",
    "    if (data.temp[x]) >= .9:\n",
    "        data['class'][x] = 5\n",
    "        continue\n",
    "    elif data.temp[x] >= .8 and data.temp[x] < .9:\n",
    "        data['class'][x] = 4\n",
    "        continue\n",
    "    elif data.temp[x] >= .7 and data.temp[x] < .8:\n",
    "        data['class'][x] = 3\n",
    "        continue\n",
    "    elif data.temp[x] >= .6 and data.temp[x] < .7:\n",
    "        data['class'][x] = 2"
   ]
  },
  {
   "cell_type": "code",
   "execution_count": 18,
   "metadata": {},
   "outputs": [
    {
     "data": {
      "text/html": [
       "<div>\n",
       "<style scoped>\n",
       "    .dataframe tbody tr th:only-of-type {\n",
       "        vertical-align: middle;\n",
       "    }\n",
       "\n",
       "    .dataframe tbody tr th {\n",
       "        vertical-align: top;\n",
       "    }\n",
       "\n",
       "    .dataframe thead th {\n",
       "        text-align: right;\n",
       "    }\n",
       "</style>\n",
       "<table border=\"1\" class=\"dataframe\">\n",
       "  <thead>\n",
       "    <tr style=\"text-align: right;\">\n",
       "      <th></th>\n",
       "      <th>essay_id</th>\n",
       "      <th>essay_set</th>\n",
       "      <th>essay</th>\n",
       "      <th>domain1_score</th>\n",
       "      <th>domain2_score</th>\n",
       "      <th>tokenized_essay</th>\n",
       "      <th>max_score</th>\n",
       "      <th>temp</th>\n",
       "      <th>class</th>\n",
       "    </tr>\n",
       "  </thead>\n",
       "  <tbody>\n",
       "    <tr>\n",
       "      <th>0</th>\n",
       "      <td>1</td>\n",
       "      <td>1</td>\n",
       "      <td>Dear local newspaper, I think effects computer...</td>\n",
       "      <td>8</td>\n",
       "      <td>0.0</td>\n",
       "      <td>[dear, local, newspaper, think, effect, comput...</td>\n",
       "      <td>12</td>\n",
       "      <td>0.666667</td>\n",
       "      <td>2</td>\n",
       "    </tr>\n",
       "    <tr>\n",
       "      <th>1</th>\n",
       "      <td>2</td>\n",
       "      <td>1</td>\n",
       "      <td>Dear @CAPS1 @CAPS2, I believe that using compu...</td>\n",
       "      <td>9</td>\n",
       "      <td>0.0</td>\n",
       "      <td>[dear, believe, using, computer, benefit, way,...</td>\n",
       "      <td>12</td>\n",
       "      <td>0.750000</td>\n",
       "      <td>3</td>\n",
       "    </tr>\n",
       "    <tr>\n",
       "      <th>2</th>\n",
       "      <td>3</td>\n",
       "      <td>1</td>\n",
       "      <td>Dear, @CAPS1 @CAPS2 @CAPS3 More and more peopl...</td>\n",
       "      <td>7</td>\n",
       "      <td>0.0</td>\n",
       "      <td>[dear, people, use, computer, agrees, benefit,...</td>\n",
       "      <td>12</td>\n",
       "      <td>0.583333</td>\n",
       "      <td>1</td>\n",
       "    </tr>\n",
       "    <tr>\n",
       "      <th>3</th>\n",
       "      <td>4</td>\n",
       "      <td>1</td>\n",
       "      <td>Dear Local Newspaper, @CAPS1 I have found that...</td>\n",
       "      <td>10</td>\n",
       "      <td>0.0</td>\n",
       "      <td>[dear, local, newspaper, expert, computer, ben...</td>\n",
       "      <td>12</td>\n",
       "      <td>0.833333</td>\n",
       "      <td>4</td>\n",
       "    </tr>\n",
       "    <tr>\n",
       "      <th>4</th>\n",
       "      <td>5</td>\n",
       "      <td>1</td>\n",
       "      <td>Dear @LOCATION1, I know having computers has a...</td>\n",
       "      <td>8</td>\n",
       "      <td>0.0</td>\n",
       "      <td>[dear, location, know, having, computer, posit...</td>\n",
       "      <td>12</td>\n",
       "      <td>0.666667</td>\n",
       "      <td>2</td>\n",
       "    </tr>\n",
       "  </tbody>\n",
       "</table>\n",
       "</div>"
      ],
      "text/plain": [
       "   essay_id  essay_set                                              essay  \\\n",
       "0         1          1  Dear local newspaper, I think effects computer...   \n",
       "1         2          1  Dear @CAPS1 @CAPS2, I believe that using compu...   \n",
       "2         3          1  Dear, @CAPS1 @CAPS2 @CAPS3 More and more peopl...   \n",
       "3         4          1  Dear Local Newspaper, @CAPS1 I have found that...   \n",
       "4         5          1  Dear @LOCATION1, I know having computers has a...   \n",
       "\n",
       "   domain1_score  domain2_score  \\\n",
       "0              8            0.0   \n",
       "1              9            0.0   \n",
       "2              7            0.0   \n",
       "3             10            0.0   \n",
       "4              8            0.0   \n",
       "\n",
       "                                     tokenized_essay  max_score      temp  \\\n",
       "0  [dear, local, newspaper, think, effect, comput...         12  0.666667   \n",
       "1  [dear, believe, using, computer, benefit, way,...         12  0.750000   \n",
       "2  [dear, people, use, computer, agrees, benefit,...         12  0.583333   \n",
       "3  [dear, local, newspaper, expert, computer, ben...         12  0.833333   \n",
       "4  [dear, location, know, having, computer, posit...         12  0.666667   \n",
       "\n",
       "   class  \n",
       "0      2  \n",
       "1      3  \n",
       "2      1  \n",
       "3      4  \n",
       "4      2  "
      ]
     },
     "execution_count": 18,
     "metadata": {},
     "output_type": "execute_result"
    }
   ],
   "source": [
    "data.head()"
   ]
  },
  {
   "cell_type": "code",
   "execution_count": 19,
   "metadata": {},
   "outputs": [
    {
     "data": {
      "text/plain": [
       "<AxesSubplot:>"
      ]
     },
     "execution_count": 19,
     "metadata": {},
     "output_type": "execute_result"
    },
    {
     "data": {
      "image/png": "[encoded data removed]",
      "text/plain": [
       "<Figure size 432x288 with 1 Axes>"
      ]
     },
     "metadata": {
      "needs_background": "light"
     },
     "output_type": "display_data"
    }
   ],
   "source": [
    "data['class'].hist()"
   ]
  },
  {
   "cell_type": "code",
   "execution_count": 20,
   "metadata": {},
   "outputs": [
    {
     "data": {
      "text/html": [
       "<div>\n",
       "<style scoped>\n",
       "    .dataframe tbody tr th:only-of-type {\n",
       "        vertical-align: middle;\n",
       "    }\n",
       "\n",
       "    .dataframe tbody tr th {\n",
       "        vertical-align: top;\n",
       "    }\n",
       "\n",
       "    .dataframe thead th {\n",
       "        text-align: right;\n",
       "    }\n",
       "</style>\n",
       "<table border=\"1\" class=\"dataframe\">\n",
       "  <thead>\n",
       "    <tr style=\"text-align: right;\">\n",
       "      <th></th>\n",
       "      <th>essay_id</th>\n",
       "      <th>essay_set</th>\n",
       "      <th>essay</th>\n",
       "      <th>domain1_score</th>\n",
       "      <th>domain2_score</th>\n",
       "      <th>tokenized_essay</th>\n",
       "      <th>max_score</th>\n",
       "      <th>temp</th>\n",
       "      <th>class</th>\n",
       "      <th>word_count</th>\n",
       "      <th>token_count</th>\n",
       "    </tr>\n",
       "  </thead>\n",
       "  <tbody>\n",
       "    <tr>\n",
       "      <th>0</th>\n",
       "      <td>1</td>\n",
       "      <td>1</td>\n",
       "      <td>Dear local newspaper, I think effects computer...</td>\n",
       "      <td>8</td>\n",
       "      <td>0.0</td>\n",
       "      <td>[dear, local, newspaper, think, effect, comput...</td>\n",
       "      <td>12</td>\n",
       "      <td>0.666667</td>\n",
       "      <td>2</td>\n",
       "      <td>338</td>\n",
       "      <td>145</td>\n",
       "    </tr>\n",
       "    <tr>\n",
       "      <th>1</th>\n",
       "      <td>2</td>\n",
       "      <td>1</td>\n",
       "      <td>Dear @CAPS1 @CAPS2, I believe that using compu...</td>\n",
       "      <td>9</td>\n",
       "      <td>0.0</td>\n",
       "      <td>[dear, believe, using, computer, benefit, way,...</td>\n",
       "      <td>12</td>\n",
       "      <td>0.750000</td>\n",
       "      <td>3</td>\n",
       "      <td>419</td>\n",
       "      <td>176</td>\n",
       "    </tr>\n",
       "    <tr>\n",
       "      <th>2</th>\n",
       "      <td>3</td>\n",
       "      <td>1</td>\n",
       "      <td>Dear, @CAPS1 @CAPS2 @CAPS3 More and more peopl...</td>\n",
       "      <td>7</td>\n",
       "      <td>0.0</td>\n",
       "      <td>[dear, people, use, computer, agrees, benefit,...</td>\n",
       "      <td>12</td>\n",
       "      <td>0.583333</td>\n",
       "      <td>1</td>\n",
       "      <td>279</td>\n",
       "      <td>117</td>\n",
       "    </tr>\n",
       "    <tr>\n",
       "      <th>3</th>\n",
       "      <td>4</td>\n",
       "      <td>1</td>\n",
       "      <td>Dear Local Newspaper, @CAPS1 I have found that...</td>\n",
       "      <td>10</td>\n",
       "      <td>0.0</td>\n",
       "      <td>[dear, local, newspaper, expert, computer, ben...</td>\n",
       "      <td>12</td>\n",
       "      <td>0.833333</td>\n",
       "      <td>4</td>\n",
       "      <td>524</td>\n",
       "      <td>240</td>\n",
       "    </tr>\n",
       "    <tr>\n",
       "      <th>4</th>\n",
       "      <td>5</td>\n",
       "      <td>1</td>\n",
       "      <td>Dear @LOCATION1, I know having computers has a...</td>\n",
       "      <td>8</td>\n",
       "      <td>0.0</td>\n",
       "      <td>[dear, location, know, having, computer, posit...</td>\n",
       "      <td>12</td>\n",
       "      <td>0.666667</td>\n",
       "      <td>2</td>\n",
       "      <td>465</td>\n",
       "      <td>171</td>\n",
       "    </tr>\n",
       "  </tbody>\n",
       "</table>\n",
       "</div>"
      ],
      "text/plain": [
       "   essay_id  essay_set                                              essay  \\\n",
       "0         1          1  Dear local newspaper, I think effects computer...   \n",
       "1         2          1  Dear @CAPS1 @CAPS2, I believe that using compu...   \n",
       "2         3          1  Dear, @CAPS1 @CAPS2 @CAPS3 More and more peopl...   \n",
       "3         4          1  Dear Local Newspaper, @CAPS1 I have found that...   \n",
       "4         5          1  Dear @LOCATION1, I know having computers has a...   \n",
       "\n",
       "   domain1_score  domain2_score  \\\n",
       "0              8            0.0   \n",
       "1              9            0.0   \n",
       "2              7            0.0   \n",
       "3             10            0.0   \n",
       "4              8            0.0   \n",
       "\n",
       "                                     tokenized_essay  max_score      temp  \\\n",
       "0  [dear, local, newspaper, think, effect, comput...         12  0.666667   \n",
       "1  [dear, believe, using, computer, benefit, way,...         12  0.750000   \n",
       "2  [dear, people, use, computer, agrees, benefit,...         12  0.583333   \n",
       "3  [dear, local, newspaper, expert, computer, ben...         12  0.833333   \n",
       "4  [dear, location, know, having, computer, posit...         12  0.666667   \n",
       "\n",
       "   class  word_count  token_count  \n",
       "0      2         338          145  \n",
       "1      3         419          176  \n",
       "2      1         279          117  \n",
       "3      4         524          240  \n",
       "4      2         465          171  "
      ]
     },
     "execution_count": 20,
     "metadata": {},
     "output_type": "execute_result"
    }
   ],
   "source": [
    "data['word_count'] = data.essay.apply(word_count)\n",
    "data['token_count'] = data.tokenized_essay.apply(len)\n",
    "data.head()"
   ]
  },
  {
   "cell_type": "code",
   "execution_count": 21,
   "metadata": {},
   "outputs": [
    {
     "data": {
      "text/plain": [
       "<AxesSubplot:>"
      ]
     },
     "execution_count": 21,
     "metadata": {},
     "output_type": "execute_result"
    },
    {
     "data": {
      "image/png": "[encoded data removed]",
      "text/plain": [
       "<Figure size 432x288 with 1 Axes>"
      ]
     },
     "metadata": {
      "needs_background": "light"
     },
     "output_type": "display_data"
    }
   ],
   "source": [
    "data['word_count'].hist(bins=20)"
   ]
  },
  {
   "cell_type": "code",
   "execution_count": 22,
   "metadata": {},
   "outputs": [
    {
     "data": {
      "text/plain": [
       "<AxesSubplot:>"
      ]
     },
     "execution_count": 22,
     "metadata": {},
     "output_type": "execute_result"
    },
    {
     "data": {
      "image/png": "[encoded data removed]",
      "text/plain": [
       "<Figure size 432x288 with 1 Axes>"
      ]
     },
     "metadata": {
      "needs_background": "light"
     },
     "output_type": "display_data"
    }
   ],
   "source": [
    "data['token_count'].hist(bins=20)"
   ]
  },
  {
   "cell_type": "code",
   "execution_count": 29,
   "id": "76a68bfc",
   "metadata": {},
   "outputs": [
    {
     "data": {
      "text/plain": [
       "228.0"
      ]
     },
     "execution_count": 29,
     "metadata": {},
     "output_type": "execute_result"
    }
   ],
   "source": [
    "np.percentile(data['token_count'], 95)"
   ]
  },
  {
   "cell_type": "code",
   "execution_count": 28,
   "id": "37a3a020",
   "metadata": {},
   "outputs": [
    {
     "data": {
      "text/plain": [
       "600.25"
      ]
     },
     "execution_count": 28,
     "metadata": {},
     "output_type": "execute_result"
    }
   ],
   "source": [
    "np.percentile(data['word_count'], 95)"
   ]
  },
  {
   "cell_type": "markdown",
   "id": "8b278022",
   "metadata": {},
   "source": [
    "If I need to truncate / pad any data with the models, 228 tokens and 600 words look like it may be a good point to at least start with truncating or padding lengths to."
   ]
  },
  {
   "cell_type": "code",
   "execution_count": 25,
   "metadata": {},
   "outputs": [
    {
     "data": {
      "image/png": "[encoded data removed]",
      "text/plain": [
       "<Figure size 432x288 with 2 Axes>"
      ]
     },
     "metadata": {
      "needs_background": "light"
     },
     "output_type": "display_data"
    }
   ],
   "source": [
    "# The counts are almost the same between words\n",
    "# and tokens, but the scale for tokens is half \n",
    "# that of words. Addtionally, the grades \n",
    "# mostly skew low, which probably means there \n",
    "# will be some skew in the model later.\n",
    "\n",
    "# Now let's see what features correlate the\n",
    "# best with grades.\n",
    "import seaborn as sns\n",
    "\n",
    "cols = ['essay_id', 'essay_set', 'domain1_score', 'class', 'word_count', 'token_count']\n",
    "quant_word_data = data[cols]\n",
    "coef = np.corrcoef(quant_word_data.T)\n",
    "ax = sns.heatmap(coef, xticklabels=cols, yticklabels=cols, annot=True)"
   ]
  },
  {
   "cell_type": "markdown",
   "metadata": {},
   "source": [
    "Word count and token count are the most highly correlated with class and domain1_score, which I guess makes sense in some ways, but also has some pitfalls.\n",
    "\n",
    "Well-organized, thoughtful writing will take some space to develop, so it makes sense that better writing has more words.\n",
    "\n",
    "On the other hand, if the paper is just filled with non-sense words, the models will probably still think it's good writing.\n",
    "\n",
    "So that's probably the first assumption: the model depends on a good-faith try from the student whose work is being graded."
   ]
  }
 ],
 "metadata": {
  "interpreter": {
   "hash": "e301189debc5177601bb5c59a11b2befed8768132b1b8ef50f2e30593072dd97"
  },
  "kernelspec": {
   "display_name": "Python 3.9.2 64-bit",
   "name": "python3"
  },
  "language_info": {
   "codemirror_mode": {
    "name": "ipython",
    "version": 3
   },
   "file_extension": ".py",
   "mimetype": "text/x-python",
   "name": "python",
   "nbconvert_exporter": "python",
   "pygments_lexer": "ipython3",
   "version": "3.9.2"
  }
 },
 "nbformat": 4,
 "nbformat_minor": 5
}
