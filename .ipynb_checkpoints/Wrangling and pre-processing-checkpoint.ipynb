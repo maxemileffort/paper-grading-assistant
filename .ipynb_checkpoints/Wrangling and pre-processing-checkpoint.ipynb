{
 "cells": [
  {
   "cell_type": "markdown",
   "id": "3371be16",
   "metadata": {},
   "source": [
    "# Paper Grading Assistant\n",
    "\n",
    "## Data Wrangling and Pre-processing\n",
    "\n",
    "Data comes from these links:\n",
    "- https://components.one/datasets/all-the-news-2-news-articles-dataset/\n",
    "- https://www.kaggle.com/abhinavwalia95/entity-annotated-corpus\n",
    "- https://www.kaggle.com/krsoninikhil/pual-graham-essays\n",
    "- https://www.kaggle.com/c/asap-sas/data\n",
    "- https://www.kaggle.com/c/asap-aes/data\n",
    "- https://www.kaggle.com/thevirusx3/automated-essay-scoring-dataset"
   ]
  },
  {
   "cell_type": "code",
   "execution_count": 1,
   "id": "21ba575d",
   "metadata": {},
   "outputs": [
    {
     "name": "stderr",
     "output_type": "stream",
     "text": [
      "[nltk_data] Downloading package stopwords to\n",
      "[nltk_data]     C:\\Users\\maxw2\\AppData\\Roaming\\nltk_data...\n",
      "[nltk_data]   Package stopwords is already up-to-date!\n",
      "[nltk_data] Downloading package wordnet to\n",
      "[nltk_data]     C:\\Users\\maxw2\\AppData\\Roaming\\nltk_data...\n",
      "[nltk_data]   Package wordnet is already up-to-date!\n"
     ]
    }
   ],
   "source": [
    "# !pip install gensim\n",
    "import os, sys\n",
    "from gensim import corpora, models\n",
    "import numpy as np\n",
    "import matplotlib.pyplot as plt\n",
    "import pandas as pd\n",
    "import re\n",
    "import nltk\n",
    "nltk.download('stopwords')\n",
    "nltk.download('wordnet')\n",
    "\n",
    "from nltk.corpus import stopwords\n",
    "from nltk.stem.porter import PorterStemmer\n",
    "from nltk.stem.wordnet import WordNetLemmatizer\n",
    "# from sklearn.feature_extraction.text import CountVectorizer"
   ]
  },
  {
   "cell_type": "code",
   "execution_count": 2,
   "id": "77b61700",
   "metadata": {},
   "outputs": [],
   "source": [
    "train_docs = {\n",
    "    'doc1' : \"D:\\\\Kaggle\\\\asap-sas\\\\train.tsv\",\n",
    "    'doc2' : \"D:\\\\Kaggle\\\\asap-aes\\\\training_set_rel3.tsv\",\n",
    "    'doc3' : \"D:\\\\Kaggle\\\\paul-graham-essays\\\\paul_graham_essay.txt\",\n",
    "    'doc4' : \"D:\\\\Kaggle\\\\all-the-news-2-1\\\\all-the-news-2-1.csv\", # large file\n",
    "    'doc5' : \"gibberish\" # bad input\n",
    "} "
   ]
  },
  {
   "cell_type": "code",
   "execution_count": 13,
   "id": "dd6bb663",
   "metadata": {},
   "outputs": [],
   "source": [
    "# Cleaning the text\n",
    "\n",
    "def get_data(path):\n",
    "    dataset = []\n",
    "    \n",
    "    if os.path.getsize(path) > 1 * 10^9:\n",
    "        dataset = clean_big_file(path)\n",
    "        return dataset\n",
    "    if path.endswith('.tsv'):\n",
    "        dataset = pd.read_table(path)\n",
    "    elif path.endswith('.csv'):\n",
    "        dataset = pd.read_csv(path)\n",
    "    elif path.endswith('.txt'):\n",
    "        with open(path) as file:\n",
    "            for line in file:\n",
    "                dataset.append(line.rstrip())\n",
    "        file.close()\n",
    "    else:\n",
    "        dataset = ''\n",
    "    return (dataset)\n",
    "\n",
    "def strip_html(raw_html):\n",
    "    clean_re = re.compile('<.*?>|&([a-z0-9]+|#[0-9]{1,6}|#x[0-9a-f]{1,6});')\n",
    "    text = re.sub(clean_re, '', raw_html)\n",
    "    return text\n",
    "\n",
    "def lem_stem_text(text):\n",
    "    # remove handles and urls specifically\n",
    "    text = re.sub(r\"(@\\[A-Za-z0-9]+)|([^0-9A-Za-z \\t])|(\\w+:\\/\\/\\S+)|^rt|http.+?\", \"\", text)\n",
    "    # remove anything not a letter\n",
    "    text = re.sub('[^a-zA-Z]', ' ', text)\n",
    "\n",
    "    text = text.lower()\n",
    "    text = text.split()\n",
    "    \n",
    "    ps = PorterStemmer()\n",
    "    wnl = WordNetLemmatizer()\n",
    "    all_stopwords = stopwords.words('english')\n",
    "    all_stopwords.remove('not')\n",
    "    \n",
    "    text1 = [ps.stem(word) for word in text if not word in set(all_stopwords)]\n",
    "    text2 = [wnl.lemmatize(word) for word in text if not word in set(all_stopwords)]\n",
    "    text1 = ' '.join(text1)\n",
    "    text2 = ' '.join(text2)\n",
    "    return text1, text2\n",
    "    \n",
    "def clean_big_file(file):\n",
    "    data = []\n",
    "    count = 0\n",
    "    cols = []\n",
    "    \n",
    "    import csv\n",
    " \n",
    "    with open(file) as csv_file:\n",
    "        csv_reader = csv.reader(csv_file, delimiter = ',')\n",
    "        \n",
    "        for line in csv_reader:\n",
    "            cols.append(line)\n",
    "            break\n",
    " \n",
    "        print(cols[0])\n",
    "    \n",
    "        target = input(\"Which column has the text? Copy and paste here: \")\n",
    "        print(target)\n",
    "        \n",
    "        idx = cols[0].index(target)\n",
    "        \n",
    "        try:\n",
    "            for line in csv_file:\n",
    "                if count < 5000:\n",
    "                    print(strip_html(line[idx]))\n",
    "                    print('=====')\n",
    "                    count += 1\n",
    "                else:\n",
    "                    break\n",
    "        except:\n",
    "            print(\"Unexpected error:\", sys.exc_info())\n",
    "            count += 1\n",
    "            pass\n",
    "#             data.append(line.rstrip())\n",
    "    csv_file.close()\n",
    "            \n",
    "    return data\n",
    "    \n",
    "def clean_df(df):\n",
    "    cols = df.columns\n",
    "    print(cols)\n",
    "    target = input(\"Which column has the text? Copy and paste here: \")\n",
    "    print(target)\n",
    "    clean_text = []\n",
    "    for i in range(len(df)):\n",
    "        try:\n",
    "            text = strip_html(df[target][i])\n",
    "            text1, text2 = lem_stem_text(text)\n",
    "            clean_text.append([text1, text2])\n",
    "        except:\n",
    "            pass\n",
    "#     print(clean_text)\n",
    "    return clean_text\n",
    "\n",
    "def clean_list(lst):\n",
    "    print('processing text data...')\n",
    "    clean_text = []\n",
    "    for i in range(len(lst)):\n",
    "        try:\n",
    "            lst[i] = lst[i].strip()\n",
    "            if len(lst[i]) < 2: # removes random empty lines\n",
    "                lst.pop(i)\n",
    "                continue\n",
    "            text = strip_html(lst[i])\n",
    "            text1, text2 = lem_stem_text(text)\n",
    "            clean_text.append([text1, text2])\n",
    "        except IndexError:\n",
    "            break\n",
    "        except:\n",
    "            print(\"Unexpected error:\", sys.exc_info())\n",
    "            pass\n",
    "#     print(clean_text)\n",
    "    return clean_text\n",
    "\n",
    "def process_data(data):\n",
    "    \n",
    "     \n",
    "    if isinstance(data, pd.DataFrame):\n",
    "        return clean_df(data)\n",
    "    elif isinstance(data, list):\n",
    "        return clean_list(data)\n",
    "    else:\n",
    "        print('data type not recognized')\n",
    "        return ''\n",
    "    "
   ]
  },
  {
   "cell_type": "code",
   "execution_count": 14,
   "id": "40a1fcfc",
   "metadata": {},
   "outputs": [
    {
     "name": "stdout",
     "output_type": "stream",
     "text": [
      "['', 'Unnamed: 0', 'date', 'year', 'month', 'day', 'author', 'title', 'article', 'url', 'section', 'publication']\n",
      "Which column has the text? Copy and paste here: article\n",
      "article\n",
      "-\n",
      "=====\n",
      "Unexpected error: (<class 'UnicodeDecodeError'>, UnicodeDecodeError('charmap', b'y important, as will the use of whatever money they have in free agency. It\\'s certainly possible to build a good defense with a high-paid quarterback, but if the Colts felt that paying Luck such a high sum of money would be difficult, perhaps they should have reconsidered what the final numbers. \\n\\n\\n\\n\\n\\n\\n\\n\\n\\nThe highest-paid player on all 32 NFL teams\",https://www.businessinsider.com/colts-gm-ryan-grigson-andrew-luck-contract-2016-10,,Business Insider\\n2,2,2018-01-26 00:00:00,2018,1.0,26,,Trump denies report he ordered Mueller fired,\"DAVOS, Switzerland (Reuters) - U.S. President Donald Trump denied a report on Friday that he had ordered Special Counsel Robert Mueller fired last June, calling it \\xe2\\x80\\x9cfake news\\xe2\\x80\\x9d.  The New York Times reported on Thursday that Trump backed down from his order after the White House counsel threatened to resign rather than follow his directive, citing four people told of the matter.  \\xe2\\x80\\x9cFake news, folks, fake news,\\xe2\\x80\\x9d Trump told reporters in Davos, when asked about the report.   Reporting by Steve Holland\",https://www.reuters.com/article/us-davos-meeting-trump-mueller/trump-denies-report-he-ordered-mueller-fired-idUSKBN1FF12A,Davos,Reuters\\n3,3,2019-06-27 00:00:00,2019,6.0,27,,France\\'s Sarkozy reveals his \\'Passions\\' but insists no come-back on cards,\"PARIS (Reuters) - Former French president Nicolas Sarkozy published a new memoir on Thursday but was quick to dismiss speculation he might return to politics to rescue his old center-right party, which has shed support since President Emmanuel Macron stormed to power.  Entitled \\xe2\\x80\\x9cPassions\\xe2\\x80\\x9d, the autobiography documents Sarkozy\\xe2\\x80\\x99s rise to power, while hurling barbs at some of his former allies, including his prime minister Francois Fillon.  During his time in office from 2007-2012, Sarkozy earned the nickname \\xe2\\x80\\x9cPresident Bling-Bling\\xe2\\x80\\x9d for his brash style and close association with tycoons and celebrities. While at the Elysee, he met and married former model Carla Bruni.  \\xe2\\x80\\x9cPassions\\xe2\\x80\\x9d is released as France\\xe2\\x80\\x99s center-right fights for survival two years after President Emmanuel Macron\\xe2\\x80\\x99s election win dynamited the political landscape.  Sarkozy\\xe2\\x80\\x99s old party, Les Republicains, is locked in infighting and struggling to find direction, squeezed by Macron\\xe2\\x80\\x99s centrist party and the far right.  \\xe2\\x80\\x9cThe book is a political one, it does not announce my return,\\xe2\\x80\\x9d Sarkozy told magazine Le Point. \\xe2\\x80\\x9cI neither want nor can get involved in a partisan debate. That would sew confusion and division. There is no need for that. It would be misplaced.\\xe2\\x80\\x9d  Nonetheless, each new appearance by the last unifying figure of the French right is closely followed - fearfully by those wary of the return of a big-name rival, and hopefully by those who long for Sarkozy\\xe2\\x80\\x99s political reincarnation.  Sarkozy has retired twice from politics: the first time after he lost his re-election bid in 2012. He returned to lead his party in 2014 only to quit again after he failed to win his party\\xe2\\x80\\x99s ticket to run for president in 2017.  Les Republicains are again without a leader after Laurent Wauquiez stepped down following the party\\xe2\\x80\\x99s dismal showing in May\\xe2\\x80\\x99s European election.  Even if Sarkozy were to return to frontline politics, he would struggle to put to one side multiple investigations, including into the financing of his re-election bid.   This month he learnt he must stand trial on charges of corruption and influence peddling in relation to allegations that he offered a judge a promotion in return for information on a parallel investigation.  Sarkozy has denied any wrongdoing.  Reporting by Simon Carraud; Writing by Richard Lough; Editing by Luke Baker and Hugh Lawson\",https://www.reuters.com/article/france-politics-sarkozy/frances-sarkozy-reveals-his-passions-but-insists-no-come-back-on-cards-idUSL8N23Y5AS,World News,Reuters\\n4,4,2016-01-27 00:00:00,2016,1.0,27,,Paris Hilton: Woman In Black For Uncle Monty\\'s Funeral,\"Paris Hilton arrived at LAX Wednesday dressed to pay her last respects to her uncle Monty Brinson. Paris flew in from Switzerland especially for the funeral of Brinson, who used to be married to her aunt Kim Richards. Monty died Sunday after a long battle with cancer ... and the loss is obviously hitting Paris hard. She posted a picture collage with Monty calling him an \"\"incredible man with such a huge heart.\"\" R.I.P.\",https://www.tmz.com/2016/01/27/paris-hilton-monty-brinson-funeral/,,TMZ\\n5,5,2019-06-17 00:00:00,2019,6.0,17,,\"ECB\\'s Coeure: If we decide to cut rates, we\\'d have to consider tiering\",\"BERLIN, June 17 (Reuters) - ECB board member Benoit Coeure said in an interview published on Monday that if the ECB decided cutting rates was the best option, it would have to consider what effect negative rates would have on banks and whether tiering was needed.  A so-called tiered deposit rate would mean banks are exempted in part from paying the ECB\\xe2\\x80\\x99s 0.40 percent annual charge on their excess reserves, boosting their profits as they struggle with an unexpected growth slowdown  \\xe2\\x80\\x9cWe would have to consider whether a tiering system is needed,\\xe2\\x80\\x9d Coeure said in an interview with the Financial Times. \\xe2\\x80\\x9cToday the prevailing view in the Governing Council is that it is not, but we also agree that it deserves further reflection.\\xe2\\x80\\x9d  Reporting by Michelle Martin\\nEditing by Tassilo Hummel\",https://www.reuters.com/article/ecb-policy-coeure/ecbs-coeure-if-we-decide-to-cut-rates-wed-have-to-consider-tiering-idUSS8N23I05L,Financials,Reuters\\n6,6,2019-06-23 00:00:00,2019,6.0,23,,\"Venezuela detains six military, police officials: family members, activists\",\"CARACAS (Reuters) - Venezuelan authorities have arrested six members of the country\\xe2\\x80\\x99s military and police forces over the weekend, according to relatives of the detainees and human rights activists, as President Nicolas Maduro seeks to weed out dissent.   Air Force Brigade General Miguel Sisco Mora was arrested Friday afternoon in a parking lot in Guatire, some 40 kilometers (25 miles) east of the capital Caracas, his daughter Stephanie Sisco said. Navy Corvette Captain Rafael Costa was detained on Friday in nearby Guarenas, according to his wife Waleska Perez.  \\xe2\\x80\\x9cWe demand that the government provide us with information about his whereabouts,\\xe2\\x80\\x9d Stephanie Sisco wrote on Twitter on Saturday.   The arrests come nearly two months after a failed uprising against Maduro called by opposition leader Juan Guaido, the head of the opposition-controlled National Assembly who in January invoked the constitution to assume a rival interim presidency and has called on the armed forces to join his cause.  They also come on the heels of a visit to Venezuela by U.N. human rights chief Michelle Bachelet, who on Friday called on Maduro to release prisoners arrested for peacefully protesting. Maduro, whose 2018 re-election has been widely denounced as illegitimate, said he would take the U.N.\\xe2\\x80\\x99s concerns seriously.  Human rights group Penal Forum had previously said that two retired Air Force colonels had been arrested in Caracas on Friday afternoon while two high ranking officials from Venezuela\\xe2\\x80\\x99s CICPC forensic police unit were arrested in Guatire, according to human rights lawyer Tamara Suju.  Neither Venezuela\\xe2\\x80\\x99s Information Ministry nor the Chief Prosecutor\\xe2\\x80\\x99s office responded to requests for comment on the six detentions on Sunday.  According to Penal Forum, some 700 people are detained for political reasons in Venezuela, including about 100 members of the military.   Maduro\\xe2\\x80\\x99s government has denied it holds political prisoners, and frequently accuses the opposition of fomenting violence. Maduro refers to Guaido as a puppet of the United States seeking to oust him in a coup.  Reporting by Vivian Sequera; Writing by Luc Cohen; Editing by Phil Berlowitz\",https://www.reuters.com/article/us-venezuela-politics/venezuela-detains-six-military-police-officials-family-members-activists-idUSKCN1TO0OA,World News,Reuters\\n7,7,2018-05-02 17:09:00,2018,5.0,2,Caroline Williams,You Can Trick Your Brain Into Being More Focused,\"If only every day could be like this. You can\\xe2\\x80\\x99t put your finger on why: Maybe you had just the right amount of sleep. Maybe the stars a', 714, 715, 'character maps to <undefined>'), <traceback object at 0x0000015FD02E65C0>)\n"
     ]
    },
    {
     "data": {
      "text/plain": [
       "[]"
      ]
     },
     "execution_count": 14,
     "metadata": {},
     "output_type": "execute_result"
    }
   ],
   "source": [
    "clean_big_file(\"D:\\\\Kaggle\\\\all-the-news-2-1\\\\all-the-news-2-1.csv\")"
   ]
  },
  {
   "cell_type": "code",
   "execution_count": null,
   "id": "29ebd71c",
   "metadata": {
    "scrolled": true
   },
   "outputs": [
    {
     "name": "stdout",
     "output_type": "stream",
     "text": [
      "Index(['Id', 'EssaySet', 'Score1', 'Score2', 'EssayText'], dtype='object')\n",
      "Which column has the text? Copy and paste here: EssayText\n",
      "EssayText\n",
      "Index(['essay_id', 'essay_set', 'essay', 'rater1_domain1', 'rater2_domain1',\n",
      "       'rater3_domain1', 'domain1_score', 'rater1_domain2', 'rater2_domain2',\n",
      "       'domain2_score', 'rater1_trait1', 'rater1_trait2', 'rater1_trait3',\n",
      "       'rater1_trait4', 'rater1_trait5', 'rater1_trait6', 'rater2_trait1',\n",
      "       'rater2_trait2', 'rater2_trait3', 'rater2_trait4', 'rater2_trait5',\n",
      "       'rater2_trait6', 'rater3_trait1', 'rater3_trait2', 'rater3_trait3',\n",
      "       'rater3_trait4', 'rater3_trait5', 'rater3_trait6'],\n",
      "      dtype='object')\n",
      "Which column has the text? Copy and paste here: essay\n",
      "essay\n",
      "processing text data...\n"
     ]
    }
   ],
   "source": [
    "all_data = []\n",
    "for key in train_docs.keys():\n",
    "    data = get_data(train_docs[key])\n",
    "    big_data = process_data(data)\n",
    "    all_data.append(big_data)"
   ]
  },
  {
   "cell_type": "code",
   "execution_count": null,
   "id": "79da5345",
   "metadata": {},
   "outputs": [],
   "source": [
    "all_data[0]"
   ]
  },
  {
   "cell_type": "code",
   "execution_count": null,
   "id": "74b70699",
   "metadata": {},
   "outputs": [],
   "source": [
    "all_data[1]"
   ]
  },
  {
   "cell_type": "code",
   "execution_count": null,
   "id": "94309bcb",
   "metadata": {},
   "outputs": [],
   "source": [
    "all_data[2]"
   ]
  },
  {
   "cell_type": "code",
   "execution_count": null,
   "id": "de8fa141",
   "metadata": {},
   "outputs": [],
   "source": [
    "all_data[3]"
   ]
  }
 ],
 "metadata": {
  "kernelspec": {
   "display_name": "Python 3",
   "language": "python",
   "name": "python3"
  },
  "language_info": {
   "codemirror_mode": {
    "name": "ipython",
    "version": 3
   },
   "file_extension": ".py",
   "mimetype": "text/x-python",
   "name": "python",
   "nbconvert_exporter": "python",
   "pygments_lexer": "ipython3",
   "version": "3.8.10"
  }
 },
 "nbformat": 4,
 "nbformat_minor": 5
}
